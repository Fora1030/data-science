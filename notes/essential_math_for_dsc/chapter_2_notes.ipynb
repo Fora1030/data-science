{
 "cells": [
  {
   "cell_type": "markdown",
   "metadata": {},
   "source": [
    "Essential Math for Data Science\n",
    "---\n",
    "#### Chapter 2: Probability\n",
    "___\n",
    "\n",
    "##### Join probability\n",
    "\n",
    "$P(A$ $AND$ $B)$  $= P(A) * P(B)$\n",
    "\n",
    "Exercise:\n",
    "\n",
    "You draw two cards from a standard 52-card deck without replacement. Let:\n",
    "\n",
    "- Event A: Drawing an Ace first.\n",
    "- Event B: Drawing a King second.\n",
    "1. Calculate the joint probability of both events A and B occurring.\n",
    "2. How does the probability change if the cards are drawn with replacement?"
   ]
  },
  {
   "cell_type": "code",
   "execution_count": 7,
   "metadata": {},
   "outputs": [
    {
     "name": "stdout",
     "output_type": "stream",
     "text": [
      "The probability of both events happening is: 0.00592\n",
      "Probability witouht replacement: 0.00603\n"
     ]
    }
   ],
   "source": [
    "total_cards = 52\n",
    "event_a = 4/52\n",
    "event_b = 4/52\n",
    "\n",
    "joint_event = event_a * event_b\n",
    "print(\"The probability of both events happening is: %.5f\"% joint_event)\n",
    "print(\"Probability without replacement: %.5f\"% ((4/52) * (4/51)))"
   ]
  },
  {
   "cell_type": "markdown",
   "metadata": {},
   "source": [
    "##### Union Probability\n",
    "\n",
    "The probability of getting vent A or B\n",
    "\n",
    "`Sum rule of probability: ` $P(A$ $OR$ $B)$ = $P(A)+P(B)- P(A)*P(B)$\n",
    "\n",
    "Exercise:\n",
    "\n",
    "You draw a single card from a standard 52-card deck. Let:\n",
    "\n",
    "- Event A: Drawing a King.\n",
    "- Event B: Drawing a Heart.\n",
    "1. Calculate the probability of drawing a card that is either a King or a Heart (Event A or Event B)."
   ]
  },
  {
   "cell_type": "code",
   "execution_count": 13,
   "metadata": {},
   "outputs": [
    {
     "name": "stdout",
     "output_type": "stream",
     "text": [
      "0.00037707390648566985\n",
      "The probability of either event happening is: 0.30769\n"
     ]
    }
   ],
   "source": [
    "event_a = 4/52\n",
    "event_b = 13/52\n",
    "p_and_b = (4/52) * (13/51)\n",
    "print(p_and_b -  1/52)\n",
    "# since there is only one king of hearts, P(A and B) = 1/52\n",
    "# and getting a king or a heart are not independent events therefore 1/52 does\n",
    "# not equal event_a * event_b\n",
    "probability = (event_a + event_b) - (1/52)\n",
    "print(\"The probability of either event happening is: %.5f\"% probability)"
   ]
  },
  {
   "cell_type": "markdown",
   "metadata": {},
   "source": [
    "##### Conditional Probability and Bayes’ Theorem\n",
    "\n",
    "___\n",
    "###### Conditional Probability\n",
    "\n",
    "Conditional probability is the probability of an event A occurring given event B has occurred.\n",
    "\n",
    "Expressed as $P(A$ $GIVEN$ $B)$ OR $P(A|B)$\n",
    "\n",
    "\n",
    "___\n",
    "###### Bayes' Theorem\n",
    "\n",
    "$P(A|B)=$ $\\frac{P(B|A)P(A)}{P(B)}$\n",
    "\n",
    "Exercise:\n",
    "\n",
    "Suppose there is a disease that affects 1% of the population. A test for this disease is 99% accurate, meaning:\n",
    "\n",
    "- If a person has the disease, the test will correctly identify it 99% of the time (true positive rate).\n",
    "- If a person does not have the disease, the test will correctly identify this 99% of the time (true negative rate).\n",
    "\n",
    "However, we want to find the probability that a person actually has the disease given that they tested positive."
   ]
  },
  {
   "cell_type": "code",
   "execution_count": 14,
   "metadata": {},
   "outputs": [
    {
     "name": "stdout",
     "output_type": "stream",
     "text": [
      "The probability that a person has the disease given that they tested positive is: 0.50\n"
     ]
    }
   ],
   "source": [
    "# Given probabilities\n",
    "P_A = 0.01  # Probability of having the disease\n",
    "P_not_A = 0.99  # Probability of not having the disease\n",
    "P_B_given_A = 0.99  # True positive rate\n",
    "P_B_given_not_A = 0.01  # False positive rate\n",
    "\n",
    "# Calculate P(B)\n",
    "P_B = (P_B_given_A * P_A) + (P_B_given_not_A * P_not_A)\n",
    "\n",
    "# Calculate P(A|B) using Bayes' Theorem\n",
    "P_A_given_B = (P_B_given_A * P_A) / P_B\n",
    "\n",
    "print(f\"The probability that a person has the disease given that they tested positive is: {P_A_given_B:.2f}\")"
   ]
  },
  {
   "cell_type": "markdown",
   "metadata": {},
   "source": [
    "___\n",
    "###### Joint and Union Conditional Probabilities"
   ]
  },
  {
   "cell_type": "code",
   "execution_count": null,
   "metadata": {},
   "outputs": [],
   "source": []
  },
  {
   "cell_type": "markdown",
   "metadata": {},
   "source": [
    "Using scipy for binomial distribution"
   ]
  },
  {
   "cell_type": "code",
   "execution_count": 22,
   "metadata": {},
   "outputs": [
    {
     "name": "stdout",
     "output_type": "stream",
     "text": [
      "0 - 0.000\n",
      "1 - 0.000\n",
      "2 - 0.000\n",
      "3 - 0.001\n",
      "4 - 0.006\n",
      "5 - 0.026\n",
      "6 - 0.088\n",
      "7 - 0.201\n",
      "8 - 0.302\n",
      "9 - 0.268\n",
      "10 - 0.107\n"
     ]
    }
   ],
   "source": [
    "from scipy.stats import binom\n",
    "\n",
    "n = 10\n",
    "p = 0.8\n",
    "\n",
    "for k in range(n + 1):\n",
    "    probability = binom.pmf(k, n, p)\n",
    "    print(\"{0} - {1:.3f}\".format(k, probability))\n"
   ]
  },
  {
   "cell_type": "code",
   "execution_count": null,
   "metadata": {},
   "outputs": [],
   "source": []
  }
 ],
 "metadata": {
  "kernelspec": {
   "display_name": "data_env",
   "language": "python",
   "name": "python3"
  },
  "language_info": {
   "codemirror_mode": {
    "name": "ipython",
    "version": 3
   },
   "file_extension": ".py",
   "mimetype": "text/x-python",
   "name": "python",
   "nbconvert_exporter": "python",
   "pygments_lexer": "ipython3",
   "version": "3.12.0"
  }
 },
 "nbformat": 4,
 "nbformat_minor": 2
}
