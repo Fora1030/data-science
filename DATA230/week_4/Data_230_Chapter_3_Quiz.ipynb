{
  "nbformat": 4,
  "nbformat_minor": 0,
  "metadata": {
    "colab": {
      "provenance": []
    },
    "kernelspec": {
      "name": "python3",
      "display_name": "Python 3"
    },
    "language_info": {
      "name": "python"
    }
  },
  "cells": [
    {
      "cell_type": "markdown",
      "source": [
        "\n",
        "\n",
        "# Chapter 3 Quiz Instructions"
      ],
      "metadata": {
        "id": "687teS5DZYlF"
      }
    },
    {
      "cell_type": "markdown",
      "source": [
        "Read Chapter 3 of Essential Math for Data Science by Thomas Nield. This is available to you through UMGC's Library. Look closely at the questions at the end of the chapter and then look at the solutions provided in the appendix. When you are ready, work through this notebook to answer these quiz questions. Once you are satisfied with your answers, go to the classroom to submit your answers. You have two attempts, so if you miss a question, come back here to work out another answer."
      ],
      "metadata": {
        "id": "dqjNayHVZmgx"
      }
    },
    {
      "cell_type": "markdown",
      "source": [
        "# Question 1"
      ],
      "metadata": {
        "id": "TzbOTT0dZpYb"
      }
    },
    {
      "cell_type": "markdown",
      "source": [
        "1.\tA carpenter wants to know the average length of the wooden planks they have in their workshop. They measure 12 planks and get the following lengths in inches: 24, 36, 18, 30, 24, 30, 36, 18, 24, 36, 30, 18 Calculate the mean and sample standard deviation (3 decimal places) for this set of values."
      ],
      "metadata": {
        "id": "OexPbBYYZr-d"
      }
    },
    {
      "cell_type": "markdown",
      "source": [
        "Enter the sizes of the planks below."
      ],
      "metadata": {
        "id": "QtD4uXiED5cK"
      }
    },
    {
      "cell_type": "code",
      "source": [
        "import statistics\n",
        "\n",
        "# create a list of the plank lengths\n",
        "plank_lengths = [  ]\n",
        "\n",
        "# calculate the mean\n",
        "mean_length = statistics.mean(plank_lengths)\n",
        "\n",
        "# calculate the sample standard deviation\n",
        "stdev_length = statistics.stdev(plank_lengths)\n",
        "\n",
        "# print the results\n",
        "print(\"Mean length: \", mean_length)\n",
        "print(\"Sample standard deviation: %.3f\" %(stdev_length))"
      ],
      "metadata": {
        "id": "y7LzEaWPZsQ9"
      },
      "execution_count": null,
      "outputs": []
    },
    {
      "cell_type": "markdown",
      "source": [
        "# Question 2"
      ],
      "metadata": {
        "id": "0mPwonDiZtGn"
      }
    },
    {
      "cell_type": "markdown",
      "source": [
        "2.\tA clothing store sells t-shirts in two sizes: small and medium. The store manager claims that 70% of their customers buy a medium-sized t-shirt. Assuming a binomial distribution, what is the probability that out of 100 customers, 60 or more will buy a medium-sized t-shirt? (show answer up to 2 decimal places)"
      ],
      "metadata": {
        "id": "OyAZax2cZvS4"
      }
    },
    {
      "cell_type": "markdown",
      "source": [
        "Hint: we are using the binom function in scipy but calculating the cumulative distribution function (cdf)."
      ],
      "metadata": {
        "id": "IkzYolT8GnwY"
      }
    },
    {
      "cell_type": "markdown",
      "source": [
        "Enter the probability, number of trials and expected number of shirts."
      ],
      "metadata": {
        "id": "57Vkf_GaHbff"
      }
    },
    {
      "cell_type": "code",
      "source": [
        "from scipy.stats import binom\n",
        "\n",
        "# probability of success (buying a medium-sized t-shirt)\n",
        "p =\n",
        "\n",
        "# number of trials (customers)\n",
        "n =\n",
        "\n",
        "# expected number of shirts\n",
        "x =\n",
        "\n",
        "# probability of getting 60 or more medium-sized t-shirts\n",
        "prob = 1 - binom.cdf(x-1, n, p)\n",
        "\n",
        "print(\"Probability of 60 or more medium-sized t-shirts: %.2f\" %(prob))"
      ],
      "metadata": {
        "id": "w_yDjRraZvsx"
      },
      "execution_count": null,
      "outputs": []
    },
    {
      "cell_type": "markdown",
      "source": [
        "# Question 3\n"
      ],
      "metadata": {
        "id": "yLECBwKNZwWj"
      }
    },
    {
      "cell_type": "markdown",
      "source": [
        "3.\tA coffee shop owner wants to estimate the average time their customers spend in the shop. They sample 40 customers and find that the sample mean time is 45 minutes with a sample standard deviation of 10 minutes. What is the 95% confidence interval for the mean time that all customers spend in the shop?"
      ],
      "metadata": {
        "id": "7N_2zcYvZ1Oc"
      }
    },
    {
      "cell_type": "markdown",
      "source": [
        "Enter the sample mean and standard deviation below. Enter the number of customers.\n",
        "\n",
        "What should the alpha be if your confidence interval is 95%?"
      ],
      "metadata": {
        "id": "9iarSti9IwI7"
      }
    },
    {
      "cell_type": "code",
      "source": [
        "import scipy.stats as stats\n",
        "\n",
        "sample_mean =\n",
        "sample_std =\n",
        "n =\n",
        "alpha =\n",
        "\n",
        "t_value = stats.t.ppf(1 - alpha/2, n-1)\n",
        "\n",
        "lower = sample_mean - t_value * sample_std / (n ** 0.5)\n",
        "upper = sample_mean + t_value * sample_std / (n ** 0.5)\n",
        "\n",
        "print(f\"The 95% confidence interval is [{lower:.2f}, {upper:.2f}]\")"
      ],
      "metadata": {
        "id": "5qUB7ScfZ1mc"
      },
      "execution_count": null,
      "outputs": []
    },
    {
      "cell_type": "markdown",
      "source": [
        "# Question 4"
      ],
      "metadata": {
        "id": "yHv9vMSlZ3SP"
      }
    },
    {
      "cell_type": "markdown",
      "source": [
        "4.\tA company claims that their new software can process data on average in less than 5 seconds with a standard deviation of 1.5 seconds. A software engineer tests the software on 25 different occasions and finds that the sample mean time to process data is 4.2 seconds. Is there evidence to support the company's claim? (Use a one-tailed test with a significance level of 0.05.)\n",
        "\n",
        "What are the t-value, p-value, and critical t-value?"
      ],
      "metadata": {
        "id": "z0_DxiqAZ59h"
      }
    },
    {
      "cell_type": "markdown",
      "source": [
        "Enter the values provided in the question into the code below."
      ],
      "metadata": {
        "id": "cD64NjS7O2mP"
      }
    },
    {
      "cell_type": "code",
      "source": [
        "import math\n",
        "from scipy.stats import t\n",
        "\n",
        "sample_mean =\n",
        "hypothesized_mean =\n",
        "sample_std =\n",
        "sample_size =\n",
        "significance_level =\n",
        "degrees_of_freedom = sample_size - 1\n",
        "\n",
        "# Calculate the t-value\n",
        "t_value = (sample_mean - hypothesized_mean) / (sample_std / math.sqrt(sample_size))\n",
        "\n",
        "# Calculate the p-value\n",
        "p_value = t.cdf(t_value, degrees_of_freedom)\n",
        "\n",
        "# Calculate the critical t-value\n",
        "critical_t_value = t.ppf(significance_level, degrees_of_freedom)\n",
        "\n",
        "# Compare the t-value to the critical t-value\n",
        "if t_value < critical_t_value:\n",
        "    print(\"There is evidence to support the company's claim.\")\n",
        "else:\n",
        "    print(\"There is not enough evidence to support the company's claim.\")\n",
        "\n",
        "# Print the t-value, p-value, and critical t-value\n",
        "print(\"t-value: {:.2f}\".format(t_value))\n",
        "print(\"p-value: {:.4f}\".format(p_value))\n",
        "print(\"critical t-value: {:.2f}\".format(critical_t_value))\n",
        "if p_value < significance_level:\n",
        "  print(\"p-value < alpha, so we reject H0\")\n",
        "else:\n",
        "  print(\"p-value > alpha, so we do not reject H0\")"
      ],
      "metadata": {
        "id": "mBPT3625Z6Gx"
      },
      "execution_count": null,
      "outputs": []
    },
    {
      "cell_type": "markdown",
      "source": [
        "# Question 5"
      ],
      "metadata": {
        "id": "GgAWtru6Z68P"
      }
    },
    {
      "cell_type": "markdown",
      "source": [
        "5.\tA bakery wants to know how many cupcakes they should prepare each day to meet the demand. They have collected data for the past 30 days and found that the daily demand for cupcakes follows a normal distribution with a mean of 120 and a standard deviation of 15. What is the minimum number of cupcakes the bakery should prepare each day to meet the demand 90% of the time?"
      ],
      "metadata": {
        "id": "AG1Qs39gZ8vB"
      }
    },
    {
      "cell_type": "markdown",
      "source": [
        "Enter the values provided in the question above into the python code below. What should you p value be?\n",
        "Hint: mu and sigma are Greek letters, what do they represent?"
      ],
      "metadata": {
        "id": "Y5wRG8XrPHKH"
      }
    },
    {
      "cell_type": "code",
      "source": [
        "from scipy.stats import norm\n",
        "import math\n",
        "\n",
        "mu =\n",
        "sigma =\n",
        "p =\n",
        "\n",
        "# Calculate the z-score for the 10th percentile\n",
        "x = norm.ppf(p, loc=mu, scale=sigma)\n",
        "\n",
        "# calculate the minimum demand level to meet the demand 90% of the time\n",
        "print(\"x = %.2f\" %x)\n",
        "print(\"The bakery should prepare at least\", math.ceil(x), \"cupcakes each day to meet the demand 90% of the time.\")"
      ],
      "metadata": {
        "id": "NsFifNlcZ839"
      },
      "execution_count": null,
      "outputs": []
    }
  ]
}