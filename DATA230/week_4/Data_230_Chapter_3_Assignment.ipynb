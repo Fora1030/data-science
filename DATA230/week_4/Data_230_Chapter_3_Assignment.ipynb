{
  "nbformat": 4,
  "nbformat_minor": 0,
  "metadata": {
    "colab": {
      "provenance": []
    },
    "kernelspec": {
      "name": "python3",
      "display_name": "Python 3"
    },
    "language_info": {
      "name": "python"
    }
  },
  "cells": [
    {
      "cell_type": "markdown",
      "source": [
        "Welcome to your assignment on the concepts as covered in Chapter 3 of *Essential Math for Data Science* by Thomas Nield. This assignment will test your understanding of descriptive and inferential statistics related to descriptive versus inferential statistics, populations, samples, and bias, descriptive statistics, inferential statistics, and the T-distribution.\n",
        "\n",
        "Please read each question carefully and provide detailed explanations for your answers, including any relevant calculations or work. You are also required to provide Python solutions for the technical problems in each question."
      ],
      "metadata": {
        "id": "lgiYK3wfQXjr"
      }
    },
    {
      "cell_type": "markdown",
      "source": [
        "#Problem 1\n",
        "\n",
        "You are working with a small company that sells a specialized electronic component. The company's production process is complex, and the quality of the components produced can vary. To assess the quality of the components, the company's quality control team measures a specific attribute of each component, let's call it \"Attribute X.\"\n",
        "\n",
        "You've been asked to analyze samples of the manufactured items for quality control.\n",
        "\n",
        "In the given problem, the Central Limit Theorem (CLT) states that the distribution of sample means will be approximately normally distributed, regardless of the original population's distribution, as long as the sample size is sufficiently large. The code simulates a population of component attributes.\n",
        "\n",
        "Which combination of Sample Sizes and Number of Samples would you recommend to ensure you have a sample that looks more like the population?\n",
        "\n",
        "Sample size=1\n",
        "Number of Samples= 10\n",
        "\n",
        "Sample size=10\n",
        "Number of Samples= 100\n",
        "\n",
        "Sample size= 100\n",
        "Number of Samples = 100\n",
        "\n",
        "Sample size = 100\n",
        "Number of Samples = 1000\n",
        "\n",
        "In the title of the sample distribution, change the title to reflect the sample size and number of samples you selected."
      ],
      "metadata": {
        "id": "H3_LTe0sZWJW"
      }
    },
    {
      "cell_type": "code",
      "source": [
        "import numpy as np\n",
        "import matplotlib.pyplot as plt\n",
        "\n",
        "# Simulate the population of component attributes\n",
        "population_mean = 50\n",
        "population_stddev = 10\n",
        "population = np.random.normal(population_mean, population_stddev, 10000)\n",
        "\n",
        "# Experiment with the sample sizes and number of samples. Enter a number and run to see the distribution, then change the number and try again.\n",
        "sample_size =\n",
        "num_samples =\n",
        "sample_means =[]\n",
        "\n",
        "for _ in range(num_samples):\n",
        "    sample = np.random.choice(population, size=sample_size)\n",
        "    sample_means.append(np.mean(sample))\n",
        "\n",
        "# Plot the population distribution\n",
        "plt.figure(figsize=(10, 6))\n",
        "\n",
        "plt.subplot(1, 2, 1)\n",
        "plt.hist(population, bins=30, density=True, color='blue', alpha=0.7)\n",
        "plt.title('Population Distribution')\n",
        "plt.xlabel('Attribute X')\n",
        "plt.ylabel('Density')\n",
        "\n",
        "# Plot the distribution of sample means. Update the title with your answer.\n",
        "plt.subplot(1, 2, 2)\n",
        "plt.hist(sample_means, bins=30, density=True, color='green', alpha=0.7)\n",
        "plt.title('Distribution of Sample Means.Sample size= # of Samples=')\n",
        "plt.xlabel('Sample Mean')\n",
        "plt.ylabel('Density')\n",
        "\n",
        "plt.tight_layout()\n",
        "plt.show()"
      ],
      "metadata": {
        "id": "OxzSv7x6ZDmG"
      },
      "execution_count": null,
      "outputs": []
    },
    {
      "cell_type": "markdown",
      "source": [
        "# Problem 2"
      ],
      "metadata": {
        "id": "xWSyysYyQVPd"
      }
    },
    {
      "cell_type": "markdown",
      "source": [
        "​A supermarket chain wants to study the spending habits of its customers. A random sample of 200 customers was taken, and their total spending during a single visit was recorded. The sample mean was 60 dollars, with a sample standard deviation of 20 dollars.\n",
        "\n",
        "a) Calculate the 95% confidence interval for the population mean spending of all customers.\n",
        "\n",
        "b) How large a sample would be needed to obtain a margin of error of $5, assuming a 95% confidence level?"
      ],
      "metadata": {
        "id": "yYy8Gm-SSG34"
      }
    },
    {
      "cell_type": "markdown",
      "source": [
        "Step 1. Import numpy as np and scipy.stats as stats"
      ],
      "metadata": {
        "id": "2Y99vCvPc9Zz"
      }
    },
    {
      "cell_type": "code",
      "source": [
        "import\n",
        "import\n"
      ],
      "metadata": {
        "id": "p6NThRU7dEuq"
      },
      "execution_count": null,
      "outputs": []
    },
    {
      "cell_type": "markdown",
      "source": [
        "Step 2. Enter the values of the sample mean, sample standard deviation, confidence level, and desired margin of error (use the desired margin of error provided- do not calculate the margin of error)."
      ],
      "metadata": {
        "id": "butwd5VbdELN"
      }
    },
    {
      "cell_type": "code",
      "source": [
        "# Sample mean\n",
        "sample_mean =\n",
        "\n",
        "# Standard deviation of the population\n",
        "sample_standard_deviation =\n",
        "\n",
        "# Confidence level\n",
        "confidence_level =\n",
        "\n",
        "# Margin of error\n",
        "margin_of_error ="
      ],
      "metadata": {
        "id": "x2u07FHHdg-Z"
      },
      "execution_count": null,
      "outputs": []
    },
    {
      "cell_type": "markdown",
      "source": [
        "Step 3. Calculate the z-score for the desired confidence level. Review the code and run (nothing for you to change)"
      ],
      "metadata": {
        "id": "8HyjPFEZeKj3"
      }
    },
    {
      "cell_type": "code",
      "source": [
        "z_score = stats.norm.ppf(1 - (1 - confidence_level) / 2)\n",
        "print(\"The z score is \",z_score)"
      ],
      "metadata": {
        "id": "ppyZf8o1eRAj"
      },
      "execution_count": null,
      "outputs": []
    },
    {
      "cell_type": "markdown",
      "source": [
        "Step 4. Using the z_score we found above, calculate the sample size. You need to enter the equation that will find the sample size if you know the z_score, sample standard deviation, and margin of error."
      ],
      "metadata": {
        "id": "7yh8w5qGhV4g"
      }
    },
    {
      "cell_type": "code",
      "source": [
        "sample_size ="
      ],
      "metadata": {
        "id": "8SqO9FKzhyxx"
      },
      "execution_count": null,
      "outputs": []
    },
    {
      "cell_type": "markdown",
      "source": [
        "Step 5. Print your results. In the print commands below, enter the variable to find the desired sample size (replace the question mark with the name of the variable for sample size (?))."
      ],
      "metadata": {
        "id": "68Iq19FljTBB"
      }
    },
    {
      "cell_type": "code",
      "source": [
        "print(\"Point estimate:\", sample_mean)\n",
        "print(\"95% confidence interval:\", sample_mean + np.array([-z_score, z_score]) * sample_standard_deviation)\n",
        "print(\"Sample size:\", round(?))"
      ],
      "metadata": {
        "id": "UPml38smjVQQ"
      },
      "execution_count": null,
      "outputs": []
    },
    {
      "cell_type": "markdown",
      "source": [
        "# Problem 3"
      ],
      "metadata": {
        "id": "zgMCg67ASQfH"
      }
    },
    {
      "cell_type": "markdown",
      "source": [
        "A manufacturing company produces widgets that are sold in boxes of 50 units. The company has received complaints from customers that the actual number of widgets per box is often less than 50. To investigate this, the company randomly selected 100 boxes and counted the number of widgets in each box. The results showed that the sample mean was 49 widgets per box, with a sample standard deviation of 2 widgets.\n",
        "\n",
        "a) Calculate the point estimate* for the population mean number of widgets per box.\n",
        "\n",
        "b) Calculate the 99% confidence interval for the population mean number of widgets per box.\n",
        "\n",
        "c) If the company wants to be 99% confident that the sample mean is within 0.5 widgets of the population mean, how large a sample would be needed?\n",
        "\n",
        "*Note:\n",
        "\n",
        "A point estimate is a single value that is used to estimate an unknown population parameter based on sample data. In statistics, population parameters are characteristics of an entire population, such as the mean, variance, or proportion, which may not be directly measurable due to practical constraints. Instead of trying to measure the parameter for the entire population, researchers often collect a sample from the population and use statistical methods to calculate a point estimate, which is a best guess at the true value of the parameter.\n",
        "\n",
        "For example, let's say you want to estimate the average height of all adult males in a particular city. It might be impractical to measure the height of every single male in the city, so you randomly select a sample of, say, 100 adult males and measure their heights. The average height of this sample can be considered a point estimate for the population's average height.\n",
        "\n",
        "Keep in mind that a point estimate is just a single value, and it's subject to variability due to sampling randomness. Different samples from the same population might yield different point estimates. Therefore, it's important to assess the reliability and precision of a point estimate by considering its associated measures of uncertainty, such as confidence intervals or standard errors.\n",
        "\n",
        "Point estimates are commonly used in various fields, including science, economics, social sciences, and more, to make informed decisions and draw conclusions about population parameters based on sample data.\n",
        "\n",
        " Here are the sample point estimates for the population mean, population standard deviation, and population proportion:\n",
        "\n",
        "Population Mean (μ):\n",
        "\n",
        "1. Sample Point Estimate:\n",
        "Sample Mean (x̄)\n",
        "Formula: x̄ = (Σx) / n.\n",
        "In words, the sample mean is the average of all the observations in the sample.\n",
        "Population Standard Deviation (σ):\n",
        "\n",
        "2. Sample Point Estimate: Sample Standard Deviation (s)\n",
        "Formula: s = √[(Σ(xi - x̄)²) / (n - 1)]\n",
        "The sample standard deviation measures the average deviation of individual data points from the sample mean. The \"n - 1\" in the denominator accounts for degrees of freedom in estimating variability.\n",
        "Population Proportion (p):\n",
        "\n",
        "3. Sample Point Estimate: Sample Proportion (p̂)\n",
        "Formula: p̂ = (Number of \"successes\" in the sample) / n\n",
        "This estimate is used when you're dealing with categorical data and you want to estimate the proportion of the population that has a specific attribute (the \"success\" category).\n",
        "\n",
        "It's important to note that these point estimates are calculated from sample data and are used to estimate the corresponding population parameters (mean, standard deviation, proportion). The accuracy of these estimates depends on the size and representativeness of the sample, as well as potential sources of bias and variability in the data collection process. Additionally, while these point estimates provide valuable information, it's often recommended to accompany them with measures of uncertainty, such as confidence intervals, to better understand the range within which the true population parameter might lie.\n"
      ],
      "metadata": {
        "id": "UROXwgklSTzR"
      }
    },
    {
      "cell_type": "markdown",
      "source": [
        "Step 1. Import numpy as np and scipy.stats as stats"
      ],
      "metadata": {
        "id": "uk0HGJEGlp4f"
      }
    },
    {
      "cell_type": "code",
      "source": [
        "import\n",
        "import"
      ],
      "metadata": {
        "id": "_CeXzpyNlt7s"
      },
      "execution_count": null,
      "outputs": []
    },
    {
      "cell_type": "markdown",
      "source": [
        "Step 2. Enter the values of the sample mean, standard deviation, confidence level, and margin of error (use the desired margin of error provided- do not calculate the margin of error)."
      ],
      "metadata": {
        "id": "SAAF_OLhlvHq"
      }
    },
    {
      "cell_type": "code",
      "source": [
        "# Sample mean\n",
        "sample_mean =\n",
        "\n",
        "# Standard deviation of the population\n",
        "sample_standard_deviation =\n",
        "\n",
        "# Confidence level\n",
        "confidence_level =\n",
        "\n",
        "# Margin of error\n",
        "margin_of_error ="
      ],
      "metadata": {
        "id": "ic6srYpsl13X"
      },
      "execution_count": null,
      "outputs": []
    },
    {
      "cell_type": "markdown",
      "source": [
        "Step 3. Calculate the z- score for the desired confidence level. Use the code from Problem 2 in this assignment to complete this.\n"
      ],
      "metadata": {
        "id": "wArOBhgVl5kI"
      }
    },
    {
      "cell_type": "code",
      "source": [
        "z_score ="
      ],
      "metadata": {
        "id": "LSzXpy_2mGjO"
      },
      "execution_count": null,
      "outputs": []
    },
    {
      "cell_type": "markdown",
      "source": [
        "Step 4. Calculate the sample size (you did this in Problem 2 in this assignment)."
      ],
      "metadata": {
        "id": "8VnJRGENmJkw"
      }
    },
    {
      "cell_type": "code",
      "source": [
        "sample_size ="
      ],
      "metadata": {
        "id": "hKrazr6OmSb8"
      },
      "execution_count": null,
      "outputs": []
    },
    {
      "cell_type": "markdown",
      "source": [
        "Step 5. Print the results using the code in Problem 2 of this assignment. Make sure to change it for a 99% confidence level."
      ],
      "metadata": {
        "id": "dkxlgrlumVzM"
      }
    },
    {
      "cell_type": "code",
      "source": [
        "print\n",
        "print\n",
        "print"
      ],
      "metadata": {
        "id": "eFrypqIemh4x"
      },
      "execution_count": null,
      "outputs": []
    },
    {
      "cell_type": "markdown",
      "source": [
        "# Problem 4"
      ],
      "metadata": {
        "id": "Dt-7A7oTSxn6"
      }
    },
    {
      "cell_type": "markdown",
      "source": [
        "A survey was conducted to study the popularity of two political candidates in a small town. A sample of 200 voters was randomly selected, and each voter was asked which candidate they would vote for in an upcoming election. The results showed that 120 voters preferred candidate A, and 80 voters preferred candidate B.\n",
        "\n",
        "a) Calculate the point estimate* and standard error for the difference in proportions of voters who prefer candidate A versus candidate B.\n",
        "\n",
        "b) Calculate the 95% confidence interval for the difference in proportions.\n",
        "\n",
        "c) Test the null hypothesis that there is no difference in proportions of voters who prefer candidate A versus candidate B, using a significance level of 0.05.\n",
        "\n",
        "*Note:see the explaination of point estimate from problem 3.\n"
      ],
      "metadata": {
        "id": "qPYyDs1iSz3k"
      }
    },
    {
      "cell_type": "markdown",
      "source": [
        "Step 1. Import numpy as np and scipy.stats as stats"
      ],
      "metadata": {
        "id": "gP2WlQbWp4Zk"
      }
    },
    {
      "cell_type": "code",
      "source": [
        "import\n",
        "import"
      ],
      "metadata": {
        "id": "V_V5f-yVp8tx"
      },
      "execution_count": null,
      "outputs": []
    },
    {
      "cell_type": "markdown",
      "source": [
        "Step 2. Enter the sample size, voters who prefer candidate A and B."
      ],
      "metadata": {
        "id": "--mLWj1aq4xG"
      }
    },
    {
      "cell_type": "code",
      "source": [
        "# Sample size\n",
        "n =\n",
        "\n",
        "# Number of voters who prefer candidate A\n",
        "n_a =\n",
        "\n",
        "# Number of voters who prefer candidate B\n",
        "n_b ="
      ],
      "metadata": {
        "id": "yr2qvp6crIJJ"
      },
      "execution_count": null,
      "outputs": []
    },
    {
      "cell_type": "markdown",
      "source": [
        "Step 3. Calculate the point estimates for the difference in proportions. First, divide each voters preferring each candidate by the sample size. Then subtract p_b from p_a."
      ],
      "metadata": {
        "id": "dqON_LDKrND1"
      }
    },
    {
      "cell_type": "code",
      "source": [
        "p_a =\n",
        "p_b =\n",
        "p_diff =\n",
        "\n",
        "print(p_a)\n",
        "print(p_b)\n",
        "print(p_diff)"
      ],
      "metadata": {
        "id": "2yAM9KLcsEEH"
      },
      "execution_count": null,
      "outputs": []
    },
    {
      "cell_type": "markdown",
      "source": [
        "Step 4. Calculate the standard error for the different in proportions. We provided the code below, nothing to change."
      ],
      "metadata": {
        "id": "KuZ_46AmsRXk"
      }
    },
    {
      "cell_type": "code",
      "source": [
        "se = np.sqrt(p_a * (1 - p_a) / n + p_b * (1 - p_b) / n)"
      ],
      "metadata": {
        "id": "OOeIDSdjtqQz"
      },
      "execution_count": null,
      "outputs": []
    },
    {
      "cell_type": "markdown",
      "source": [
        "Step 5. Calculate the confidence interval at 95%, Enter the range -1.96 to 1.96 (where you see question mark (?)) because we want to find data that is 95% of area between the 1.96 standard deviations of the mean."
      ],
      "metadata": {
        "id": "XXJ-AZXsshgi"
      }
    },
    {
      "cell_type": "code",
      "source": [
        "# 95% confidence interval for the difference in proportions\n",
        "conf_interval = p_diff + np.array([?, ?]) * se"
      ],
      "metadata": {
        "id": "KFLHKGvTvJQR"
      },
      "execution_count": null,
      "outputs": []
    },
    {
      "cell_type": "markdown",
      "source": [
        "Step 6. Print the results. We provided the code, nothing to change."
      ],
      "metadata": {
        "id": "CbeO6AvauivO"
      }
    },
    {
      "cell_type": "code",
      "source": [
        "print(\"Point estimate: %.3f\" %p_diff)\n",
        "print(\"Standard error: %.3f\"  %se)\n",
        "print(\"95% confidence interval:\", conf_interval)\n",
        "if conf_interval[0] < 0 and 0 < conf_interval[1]:\n",
        "    print(\"Conclusion: Do Not Reject H0. There is No Preference\")\n",
        "else:\n",
        "    print(\"Conclusion: Reject H0. There's preference in proportions of voters who prefer candidate A versus candidate B\")"
      ],
      "metadata": {
        "id": "32ifQ1ePunUU"
      },
      "execution_count": null,
      "outputs": []
    }
  ]
}