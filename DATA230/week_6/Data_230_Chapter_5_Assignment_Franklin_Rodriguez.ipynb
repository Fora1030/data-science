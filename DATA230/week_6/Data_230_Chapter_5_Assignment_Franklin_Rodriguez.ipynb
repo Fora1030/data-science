{
  "nbformat": 4,
  "nbformat_minor": 0,
  "metadata": {
    "colab": {
      "provenance": []
    },
    "kernelspec": {
      "name": "python3",
      "display_name": "Python 3"
    },
    "language_info": {
      "name": "python"
    }
  },
  "cells": [
    {
      "cell_type": "markdown",
      "source": [
        "Welcome to your assignment about concepts covered in Chapter 5 of *Essential Math for Data Science* by Thomas Nield. You will be practicing linear regression to make predictions.\n",
        "\n",
        "Please read each question carefully and provide detailed explanations for your answers, including any relevant calculations or work. You are also required to provide Python solutions for the technical problems in each question."
      ],
      "metadata": {
        "id": "lgiYK3wfQXjr"
      }
    },
    {
      "cell_type": "markdown",
      "source": [
        "# Problem 1"
      ],
      "metadata": {
        "id": "1NPMNlgAQUoG"
      }
    },
    {
      "cell_type": "markdown",
      "source": [
        "Problem 1: A Basic Linear Regression\n",
        "\n",
        "You are given a dataset containing the number of hours studied and the corresponding scores achieved by a group of eight students:\n",
        "\n",
        "Hours studied = 2, 3, 4, 5, 6, 7, 8, 9\n",
        "\n",
        "Scores % = 28, 40, 47, 66, 73, 81, 88, 95\n"
      ],
      "metadata": {
        "id": "jcOJK71EQi_m"
      }
    },
    {
      "cell_type": "markdown",
      "source": [
        "Step 1. Import pandas as pd and  matplotlib.pyplot as plt. Get the linearregression function from sklearn.linear_model. Follow Example 5-1 from the book. Lastly, you need to get r2_score from sklearn.metrics."
      ],
      "metadata": {
        "id": "avkY_5LFtpxc"
      }
    },
    {
      "cell_type": "code",
      "source": [
        "import\n",
        "import\n",
        "from\n",
        "from"
      ],
      "metadata": {
        "id": "neA3qic0v3AL"
      },
      "execution_count": null,
      "outputs": []
    },
    {
      "cell_type": "markdown",
      "source": [
        "Step 2. Load the dataset into a pandas DataFrame. Enter the hours and scores into the dataframe."
      ],
      "metadata": {
        "id": "7OihXCbsv4aR"
      }
    },
    {
      "cell_type": "code",
      "source": [
        "data = {\n",
        "    'Hours': [],\n",
        "    'Scores': []\n",
        "}\n",
        "df = pd.DataFrame(data)\n",
        "print(df)"
      ],
      "metadata": {
        "id": "S13Qdp_AwE2K"
      },
      "execution_count": null,
      "outputs": []
    },
    {
      "cell_type": "markdown",
      "source": [
        "Step 3. Split the dataset into feature matrix X and target variable y. Which variable should be your X value (independent variable). Which variable should be your y value (dependent variable)? *For the X variable, you need to have double brackets to create a Pandas Data Frame versus a series (single brackets).*"
      ],
      "metadata": {
        "id": "lxPOOZRzwt81"
      }
    },
    {
      "cell_type": "code",
      "source": [
        "X = df[['']]\n",
        "y = df['']\n"
      ],
      "metadata": {
        "id": "gjIk4CSdw4lj"
      },
      "execution_count": null,
      "outputs": []
    },
    {
      "cell_type": "markdown",
      "source": [
        "Step 4. Create the model and fit a line to the points. *Nothing to change in the code below*"
      ],
      "metadata": {
        "id": "U_UmFhBdxh6Q"
      }
    },
    {
      "cell_type": "code",
      "source": [
        "model = LinearRegression()\n",
        "model.fit(X, y)"
      ],
      "metadata": {
        "id": "bYmzqH1XzE8r"
      },
      "execution_count": null,
      "outputs": []
    },
    {
      "cell_type": "markdown",
      "source": [
        "Step 5. Obtain the coefficient and intercept values. *Nothing to change in the code below*"
      ],
      "metadata": {
        "id": "jz92z6_LzPvZ"
      }
    },
    {
      "cell_type": "code",
      "source": [
        "coef = model.coef_[0]\n",
        "intercept = model.intercept_"
      ],
      "metadata": {
        "id": "aM7sMjggzN_b"
      },
      "execution_count": null,
      "outputs": []
    },
    {
      "cell_type": "markdown",
      "source": [
        "Step 6. Plot the linear regression. *Nothing to change in the code below*"
      ],
      "metadata": {
        "id": "EboCPpIWzQRR"
      }
    },
    {
      "cell_type": "code",
      "source": [
        "plt.scatter(X, y)\n",
        "plt.plot(X, model.predict(X), color='red')\n",
        "plt.xlabel('Hours')\n",
        "plt.ylabel('Scores')\n",
        "plt.title('Linear Regression')\n",
        "plt.show()"
      ],
      "metadata": {
        "id": "Hn3ZdrXFzPKi"
      },
      "execution_count": null,
      "outputs": []
    },
    {
      "cell_type": "markdown",
      "source": [
        "Step 7. Predict the score for a student who studied for 5 hours. Enter the value into the new_X matrix below."
      ],
      "metadata": {
        "id": "Kb2db9GyzZ_5"
      }
    },
    {
      "cell_type": "code",
      "source": [
        "new_X = [[]]\n",
        "predicted_score = model.predict(new_X)[0]\n",
        "print(f\"Predicted score for 5 hours of study: {predicted_score: .3f}\")"
      ],
      "metadata": {
        "id": "Rqw_1XE5zaJ7"
      },
      "execution_count": null,
      "outputs": []
    },
    {
      "cell_type": "markdown",
      "source": [
        "Step 8: Calculate the R-squared value. *Nothing to change in the code below*\n"
      ],
      "metadata": {
        "id": "Vr7YzlEZzkDL"
      }
    },
    {
      "cell_type": "code",
      "source": [
        "r_squared = r2_score(y, model.predict(X))\n",
        "print(f\"R-squared value: {r_squared: .3f}\")"
      ],
      "metadata": {
        "id": "W-tsruwczkNd"
      },
      "execution_count": null,
      "outputs": []
    },
    {
      "cell_type": "markdown",
      "source": [
        "# Problem 2"
      ],
      "metadata": {
        "id": "xWSyysYyQVPd"
      }
    },
    {
      "cell_type": "markdown",
      "source": [
        "You have performed a linear regression on a dataset and obtained the best fit line. Now you want to calculate the residuals and squared errors for each data point. Use the same dataset we used in Problem 1."
      ],
      "metadata": {
        "id": "yYy8Gm-SSG34"
      }
    },
    {
      "cell_type": "markdown",
      "source": [
        "Step 1. Import pandas as pd. Import numpy as np. Get the linearregression function from sklearn.linear_model. Follow Example 5-1 from the book. Lastly, you need to get mean_squared_error from sklearn.metrics."
      ],
      "metadata": {
        "id": "KZAwPz6YDnVJ"
      }
    },
    {
      "cell_type": "code",
      "source": [
        "import\n",
        "import\n",
        "from\n",
        "from"
      ],
      "metadata": {
        "id": "j6I-FTABDnkh"
      },
      "execution_count": null,
      "outputs": []
    },
    {
      "cell_type": "markdown",
      "source": [
        "Step 2. Load the dataset into a pandas DataFrame"
      ],
      "metadata": {
        "id": "gnC-jptODnxF"
      }
    },
    {
      "cell_type": "code",
      "source": [
        "data = {\n",
        "    'X': [],\n",
        "    'y': []\n",
        "}\n",
        "df = pd.DataFrame(data)"
      ],
      "metadata": {
        "id": "TxOFliSnDn7D"
      },
      "execution_count": null,
      "outputs": []
    },
    {
      "cell_type": "markdown",
      "source": [
        "Step 3. Split the dataset into feature matrix X and target variable y. *Leave the double brackets for X and single brackets for y.*"
      ],
      "metadata": {
        "id": "5WVQ4LU2EaYN"
      }
    },
    {
      "cell_type": "code",
      "source": [
        "X = df[['']]\n",
        "y = df['']"
      ],
      "metadata": {
        "id": "N0eGuwINEahr"
      },
      "execution_count": null,
      "outputs": []
    },
    {
      "cell_type": "markdown",
      "source": [
        "Step 4. Create an instance of the linear regression model and fit the model using X and y. Look at problem 1 to determine what the code should be. Enter the X and y variables where you see question marks below."
      ],
      "metadata": {
        "id": "sM9EPhhBDoEU"
      }
    },
    {
      "cell_type": "code",
      "source": [
        "model =\n",
        "model.fit(?, ?)"
      ],
      "metadata": {
        "colab": {
          "base_uri": "https://localhost:8080/",
          "height": 74
        },
        "id": "Xg-lt-s7DoMn",
        "outputId": "c463263c-92fc-4542-fd0f-417cb4e8f96a"
      },
      "execution_count": null,
      "outputs": [
        {
          "output_type": "execute_result",
          "data": {
            "text/plain": [
              "LinearRegression()"
            ],
            "text/html": [
              "<style>#sk-container-id-6 {color: black;background-color: white;}#sk-container-id-6 pre{padding: 0;}#sk-container-id-6 div.sk-toggleable {background-color: white;}#sk-container-id-6 label.sk-toggleable__label {cursor: pointer;display: block;width: 100%;margin-bottom: 0;padding: 0.3em;box-sizing: border-box;text-align: center;}#sk-container-id-6 label.sk-toggleable__label-arrow:before {content: \"▸\";float: left;margin-right: 0.25em;color: #696969;}#sk-container-id-6 label.sk-toggleable__label-arrow:hover:before {color: black;}#sk-container-id-6 div.sk-estimator:hover label.sk-toggleable__label-arrow:before {color: black;}#sk-container-id-6 div.sk-toggleable__content {max-height: 0;max-width: 0;overflow: hidden;text-align: left;background-color: #f0f8ff;}#sk-container-id-6 div.sk-toggleable__content pre {margin: 0.2em;color: black;border-radius: 0.25em;background-color: #f0f8ff;}#sk-container-id-6 input.sk-toggleable__control:checked~div.sk-toggleable__content {max-height: 200px;max-width: 100%;overflow: auto;}#sk-container-id-6 input.sk-toggleable__control:checked~label.sk-toggleable__label-arrow:before {content: \"▾\";}#sk-container-id-6 div.sk-estimator input.sk-toggleable__control:checked~label.sk-toggleable__label {background-color: #d4ebff;}#sk-container-id-6 div.sk-label input.sk-toggleable__control:checked~label.sk-toggleable__label {background-color: #d4ebff;}#sk-container-id-6 input.sk-hidden--visually {border: 0;clip: rect(1px 1px 1px 1px);clip: rect(1px, 1px, 1px, 1px);height: 1px;margin: -1px;overflow: hidden;padding: 0;position: absolute;width: 1px;}#sk-container-id-6 div.sk-estimator {font-family: monospace;background-color: #f0f8ff;border: 1px dotted black;border-radius: 0.25em;box-sizing: border-box;margin-bottom: 0.5em;}#sk-container-id-6 div.sk-estimator:hover {background-color: #d4ebff;}#sk-container-id-6 div.sk-parallel-item::after {content: \"\";width: 100%;border-bottom: 1px solid gray;flex-grow: 1;}#sk-container-id-6 div.sk-label:hover label.sk-toggleable__label {background-color: #d4ebff;}#sk-container-id-6 div.sk-serial::before {content: \"\";position: absolute;border-left: 1px solid gray;box-sizing: border-box;top: 0;bottom: 0;left: 50%;z-index: 0;}#sk-container-id-6 div.sk-serial {display: flex;flex-direction: column;align-items: center;background-color: white;padding-right: 0.2em;padding-left: 0.2em;position: relative;}#sk-container-id-6 div.sk-item {position: relative;z-index: 1;}#sk-container-id-6 div.sk-parallel {display: flex;align-items: stretch;justify-content: center;background-color: white;position: relative;}#sk-container-id-6 div.sk-item::before, #sk-container-id-6 div.sk-parallel-item::before {content: \"\";position: absolute;border-left: 1px solid gray;box-sizing: border-box;top: 0;bottom: 0;left: 50%;z-index: -1;}#sk-container-id-6 div.sk-parallel-item {display: flex;flex-direction: column;z-index: 1;position: relative;background-color: white;}#sk-container-id-6 div.sk-parallel-item:first-child::after {align-self: flex-end;width: 50%;}#sk-container-id-6 div.sk-parallel-item:last-child::after {align-self: flex-start;width: 50%;}#sk-container-id-6 div.sk-parallel-item:only-child::after {width: 0;}#sk-container-id-6 div.sk-dashed-wrapped {border: 1px dashed gray;margin: 0 0.4em 0.5em 0.4em;box-sizing: border-box;padding-bottom: 0.4em;background-color: white;}#sk-container-id-6 div.sk-label label {font-family: monospace;font-weight: bold;display: inline-block;line-height: 1.2em;}#sk-container-id-6 div.sk-label-container {text-align: center;}#sk-container-id-6 div.sk-container {/* jupyter's `normalize.less` sets `[hidden] { display: none; }` but bootstrap.min.css set `[hidden] { display: none !important; }` so we also need the `!important` here to be able to override the default hidden behavior on the sphinx rendered scikit-learn.org. See: https://github.com/scikit-learn/scikit-learn/issues/21755 */display: inline-block !important;position: relative;}#sk-container-id-6 div.sk-text-repr-fallback {display: none;}</style><div id=\"sk-container-id-6\" class=\"sk-top-container\"><div class=\"sk-text-repr-fallback\"><pre>LinearRegression()</pre><b>In a Jupyter environment, please rerun this cell to show the HTML representation or trust the notebook. <br />On GitHub, the HTML representation is unable to render, please try loading this page with nbviewer.org.</b></div><div class=\"sk-container\" hidden><div class=\"sk-item\"><div class=\"sk-estimator sk-toggleable\"><input class=\"sk-toggleable__control sk-hidden--visually\" id=\"sk-estimator-id-6\" type=\"checkbox\" checked><label for=\"sk-estimator-id-6\" class=\"sk-toggleable__label sk-toggleable__label-arrow\">LinearRegression</label><div class=\"sk-toggleable__content\"><pre>LinearRegression()</pre></div></div></div></div></div>"
            ]
          },
          "metadata": {},
          "execution_count": 71
        }
      ]
    },
    {
      "cell_type": "markdown",
      "source": [
        "Step 5. Calculate the predicted values of y. *Nothing to change in the code below*"
      ],
      "metadata": {
        "id": "rEPYVt3YEMZg"
      }
    },
    {
      "cell_type": "code",
      "source": [
        "predicted_y = model.predict(X)"
      ],
      "metadata": {
        "id": "sbYj6B9fEM1g"
      },
      "execution_count": null,
      "outputs": []
    },
    {
      "cell_type": "markdown",
      "source": [
        "Step 6. Calculate the residuals. *Nothing to change in the code below*"
      ],
      "metadata": {
        "id": "zeeAO2K2EuhE"
      }
    },
    {
      "cell_type": "code",
      "source": [
        "residuals = y - predicted_y"
      ],
      "metadata": {
        "id": "yGOrslf3Euq1"
      },
      "execution_count": null,
      "outputs": []
    },
    {
      "cell_type": "markdown",
      "source": [
        "Step 7. Calculate the squared errors. *Nothing to change in the code below*"
      ],
      "metadata": {
        "id": "Xa4HK3pxGkOE"
      }
    },
    {
      "cell_type": "code",
      "source": [
        "squared_errors = residuals ** 2"
      ],
      "metadata": {
        "id": "tWxISzxzGqTL"
      },
      "execution_count": null,
      "outputs": []
    },
    {
      "cell_type": "markdown",
      "source": [
        "Step 8. Calculate the mean squared error (MSE) and root mean squared error (RMSE). *Nothing to change in the code below*"
      ],
      "metadata": {
        "id": "w9n6Qpf8Gq8P"
      }
    },
    {
      "cell_type": "code",
      "source": [
        "mse = mean_squared_error(y, predicted_y)\n",
        "rmse = np.sqrt(mse)\n",
        "\n",
        "print(f\"Residuals:\\n{residuals}\")\n",
        "print(f\"Squared Errors:\\n{squared_errors}\")\n",
        "print(f\"Mean Squared Error (MSE): {mse: .3f}\")\n",
        "print(f\"Root Mean Squared Error (RMSE): {rmse: .3f}\")"
      ],
      "metadata": {
        "id": "ijG8Vr-0Gv27"
      },
      "execution_count": null,
      "outputs": []
    },
    {
      "cell_type": "markdown",
      "source": [
        "# Problem 3"
      ],
      "metadata": {
        "id": "zgMCg67ASQfH"
      }
    },
    {
      "cell_type": "markdown",
      "source": [
        "\n",
        "You have a dataset containing the number of hours studied, the number of hours slept, and the corresponding scores achieved by a group of eight students:\n",
        "\n",
        "Hours Studied = 2, 3, 4, 5, 6, 7, 8, 9\n",
        "\n",
        "Hours Slept = 5, 6, 7, 6, 7, 8, 9, 9\n",
        "\n",
        "Scores % = 28, 40, 47, 66, 73, 81, 88, 95\n",
        "\n",
        "You want to perform multiple linear regression to predict the score based on the number of hours studied and the number of hours slept.\n",
        "\n",
        "Hint: In this solution, we consider 'Hours_Studied' and 'Hours_Slept' as the independent variables (features) and 'Scores' as the dependent variable (target). We use scikit-learn's LinearRegression model to perform the multiple linear regression, and we obtain the coefficients and intercept to represent the best fit line. We then predict the score for a specific combination of hours studied and hours slept and calculate the R-squared value to evaluate the model's performance."
      ],
      "metadata": {
        "id": "UROXwgklSTzR"
      }
    },
    {
      "cell_type": "markdown",
      "source": [
        "Step 1. Import pandas as pd. Get the linearregression function from sklearn.linear_model. Follow Example 5-1 from the book. Lastly, you need to get r2_score from sklearn.metrics."
      ],
      "metadata": {
        "id": "R1cbUM5SHMUY"
      }
    },
    {
      "cell_type": "code",
      "source": [
        "import\n",
        "from\n",
        "from\n"
      ],
      "metadata": {
        "id": "-c_w4PxsHMda"
      },
      "execution_count": null,
      "outputs": []
    },
    {
      "cell_type": "markdown",
      "source": [
        "Step 2. Load the dataset into a pandas DataFrame"
      ],
      "metadata": {
        "id": "iC361XqWHMmm"
      }
    },
    {
      "cell_type": "code",
      "source": [
        "data = {\n",
        "    'Hours_Studied': [],\n",
        "    'Hours_Slept': [],\n",
        "    'Scores': []\n",
        "}\n",
        "df = pd.DataFrame(data)"
      ],
      "metadata": {
        "id": "u2ZgoohbHMv4"
      },
      "execution_count": null,
      "outputs": []
    },
    {
      "cell_type": "markdown",
      "source": [
        "Step 3. Split the dataset into feature matrix X and target variable y *Leave the double brackets for X and single brackets for y.*"
      ],
      "metadata": {
        "id": "HKDsGmxoHM5b"
      }
    },
    {
      "cell_type": "code",
      "source": [
        "X_df = df[['', '']]\n",
        "y = df['']"
      ],
      "metadata": {
        "id": "6MxKK1v_HNB7"
      },
      "execution_count": null,
      "outputs": []
    },
    {
      "cell_type": "markdown",
      "source": [
        "Step 4. Create the an instance of the Linear Regression model and fit the model using X and y. *Nothing to change in the code below*"
      ],
      "metadata": {
        "id": "c5_f1miAHNMM"
      }
    },
    {
      "cell_type": "code",
      "source": [
        "model = LinearRegression()\n",
        "model.fit(X_df, y)"
      ],
      "metadata": {
        "id": "ylCVWTugHNVK"
      },
      "execution_count": null,
      "outputs": []
    },
    {
      "cell_type": "markdown",
      "source": [
        "Step 5. Obtain the coefficients and intercept value. *Nothing to change in the code below*"
      ],
      "metadata": {
        "id": "N3aj-zfNHNeL"
      }
    },
    {
      "cell_type": "code",
      "source": [
        "coefficients = model.coef_\n",
        "intercept = model.intercept_\n",
        "\n",
        "print(f\"Coefficients: {coefficients[0]:.3f}, {coefficients[1]:.3f}\")\n",
        "print(f\"Intercept: {intercept: .3f}\")"
      ],
      "metadata": {
        "id": "Ea402KkgHNn_"
      },
      "execution_count": null,
      "outputs": []
    },
    {
      "cell_type": "markdown",
      "source": [
        "Step 6. Predict the score for a student who has studied for 4 hours and slept for 8 hours. Enter the values into the new_X_df below."
      ],
      "metadata": {
        "id": "M2FUWyTLHN9w"
      }
    },
    {
      "cell_type": "code",
      "source": [
        "new_X_df = [[, ]]\n",
        "predicted_score = model.predict(new_X_df)[0]\n",
        "print(f\"Predicted score for 4 hours studied and 8 hours slept: {predicted_score: .3f}\")"
      ],
      "metadata": {
        "id": "kKX7lnuHHOFB"
      },
      "execution_count": null,
      "outputs": []
    },
    {
      "cell_type": "markdown",
      "source": [
        "Step 7. Calculate the R-squared value. *Nothing to change in the code below*"
      ],
      "metadata": {
        "id": "yH0pQA1mH43p"
      }
    },
    {
      "cell_type": "code",
      "source": [
        "r_squared = r2_score(y, model.predict(X_df))\n",
        "print(f\"R-squared value: {r_squared: .3f}\")"
      ],
      "metadata": {
        "id": "S8Ct16E3H5At"
      },
      "execution_count": null,
      "outputs": []
    }
  ]
}