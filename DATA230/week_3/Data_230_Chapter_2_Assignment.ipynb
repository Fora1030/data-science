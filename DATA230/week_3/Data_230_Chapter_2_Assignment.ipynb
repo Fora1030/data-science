{
  "nbformat": 4,
  "nbformat_minor": 0,
  "metadata": {
    "colab": {
      "provenance": []
    },
    "kernelspec": {
      "name": "python3",
      "display_name": "Python 3"
    },
    "language_info": {
      "name": "python"
    }
  },
  "cells": [
    {
      "cell_type": "markdown",
      "source": [
        "# Instructions"
      ],
      "metadata": {
        "id": "CRNT99IsybbR"
      }
    },
    {
      "cell_type": "markdown",
      "source": [
        "In this assignment, you will be asked to demonstrate your understanding of probability concepts as covered in Chapter 2 of *Essential Math for Data Science* by Thomas Nield. The assignment consists of four problems, which require you to apply probability concepts to real-world scenarios. We will step you through each calculation.\n"
      ],
      "metadata": {
        "id": "eS_tWt3pyfY0"
      }
    },
    {
      "cell_type": "markdown",
      "source": [
        "# Problem 1"
      ],
      "metadata": {
        "id": "gwgEMFWUye2V"
      }
    },
    {
      "cell_type": "markdown",
      "source": [
        "A survey of 500 people was conducted to determine how many people own a pet, and how many people own a car. The results showed that 300 people own a pet, 150 people own a car, and 100 people own both a pet and a car. What is the probability that a randomly selected person owns a pet or a car?"
      ],
      "metadata": {
        "id": "uup1-p-9ynPr"
      }
    },
    {
      "cell_type": "markdown",
      "source": [
        "Step 1. Define the necessary variables."
      ],
      "metadata": {
        "id": "Xc387Jk0IoBU"
      }
    },
    {
      "cell_type": "code",
      "source": [
        "total_people =\n",
        "pet_owners =\n",
        "car_owners =\n",
        "both_owners ="
      ],
      "metadata": {
        "id": "tdYBZjhuIr2o"
      },
      "execution_count": null,
      "outputs": []
    },
    {
      "cell_type": "markdown",
      "source": [
        "Step 2. In the book, you should read more about the \"sum rule of probability\" that ensures every joint event is only counted once. P(A or B) = P(A) + P(B) - P(A and B) where P(A) is the probability of owning a pet, P(B) is the probability of owning a car, and P(A and B) is the probability of owning both a pet and a car. Enter the equation below."
      ],
      "metadata": {
        "id": "fBmqO1uqIWmY"
      }
    },
    {
      "cell_type": "code",
      "source": [
        "p_pet_or_car =\n",
        "print(\"The probability of owning a pet or a car is:\", p_pet_or_car)"
      ],
      "metadata": {
        "id": "UlxkQDB1I1e0"
      },
      "execution_count": null,
      "outputs": []
    },
    {
      "cell_type": "markdown",
      "source": [
        "# Problem 2"
      ],
      "metadata": {
        "id": "2f-oZbX28ouh"
      }
    },
    {
      "cell_type": "markdown",
      "source": [
        "Continue problem 1: A survey was conducted to determine the probability of a person owning a car given that the person owns a pet. The results showed that 100 out of 300 pet owners also own a car. What is the probability that a randomly selected person owns a pet and a car?\n"
      ],
      "metadata": {
        "id": "A7xe6sMK8uPq"
      }
    },
    {
      "cell_type": "markdown",
      "source": [
        "Step 1. Define the necessary variables"
      ],
      "metadata": {
        "id": "Yw5envS78mg2"
      }
    },
    {
      "cell_type": "code",
      "source": [
        "total_people =\n",
        "pet_owners =\n",
        "car_owners =\n",
        "both_owners ="
      ],
      "metadata": {
        "id": "nPJR7ewhLXXp"
      },
      "execution_count": null,
      "outputs": []
    },
    {
      "cell_type": "markdown",
      "source": [
        "Step 2. Find the probability of people who own both car and pet and another to calculate the probability of pet owners.\n"
      ],
      "metadata": {
        "id": "7d28DAXKLa3v"
      }
    },
    {
      "cell_type": "code",
      "source": [
        "p_pet_and_car =\n",
        "p_pet_owners  ="
      ],
      "metadata": {
        "id": "M9ir59IgMATb"
      },
      "execution_count": null,
      "outputs": []
    },
    {
      "cell_type": "markdown",
      "source": [
        "Step 3. Calculate the probability of a person owning a car given that the person owns a pet, we can use the formula:\n",
        "\n",
        "P(car|pet) = P(car and pet) / P(pet)"
      ],
      "metadata": {
        "id": "DR15iFnaMBtb"
      }
    },
    {
      "cell_type": "code",
      "source": [
        "p_car_given_pet=\n",
        "print(\"Probability of owning a car given that the person owns a pet: %.3f\" %p_car_given_pet)"
      ],
      "metadata": {
        "id": "GLQafJzCMCC9"
      },
      "execution_count": null,
      "outputs": []
    },
    {
      "cell_type": "markdown",
      "source": [
        "# Problem 3"
      ],
      "metadata": {
        "id": "Qh4pyRlpyobQ"
      }
    },
    {
      "cell_type": "markdown",
      "source": [
        "A company has two factories that produce the same product. Factory 1 produces 60% of the products, while Factory 2 produces 40% of the products. Of the products produced by Factory 1, 5% are defective, while of the products produced by Factory 2, 3% are defective. Answer these two questions:\n",
        "1. What is the probability that a randomly selected product is defective?\n",
        "2. What is the probability that the selected defective product is from Factory 1?"
      ],
      "metadata": {
        "id": "OH-tDHLCyoz2"
      }
    },
    {
      "cell_type": "markdown",
      "source": [
        "Step 1. Define the probabilities and conditional probabilities."
      ],
      "metadata": {
        "id": "akjIMWtIO46k"
      }
    },
    {
      "cell_type": "code",
      "source": [
        "P_F1 =   # Probability of selecting from Factory 1\n",
        "P_F2 =  # Probability of selecting from Factory 2\n",
        "P_D_given_F1 =   # Probability of selecting a defective product given Factory 1\n",
        "P_D_given_F2 =   # Probability of selecting a defective product given Factory 2"
      ],
      "metadata": {
        "id": "nQBfY9T8PANf"
      },
      "execution_count": null,
      "outputs": []
    },
    {
      "cell_type": "markdown",
      "source": [
        "Step 2. Calculate the overall probability of selecting a defective product.\n",
        "\n",
        "To solve this problem, we can use the law of total probability. We can break down the probability of a randomly selected product being defective into two cases: the probability that the product came from Factory 1 and is defective, and the probability that the product came from Factory 2 and is defective. We can then add these two probabilities to get the total probability of a randomly selected product being defective.\n",
        "\n",
        " Let D be the event that a product is defective, F1 be the event that a product came from Factory 1, and F2 be the event that a product came from Factory 2. We want to find P(D), the probability that a randomly selected product is defective.\n",
        "\n",
        "Using the law of total probability, we have:\n",
        "\n",
        "P(D) = P(D|F1)P(F1) + P(D|F2)P(F2)"
      ],
      "metadata": {
        "id": "krDPSlsPPFho"
      }
    },
    {
      "cell_type": "code",
      "source": [
        "P_D =\n",
        "print(\"The probability that a randomly selected product is defective: %.3f\" %P_D)"
      ],
      "metadata": {
        "id": "hskxhXoEPL_6"
      },
      "execution_count": null,
      "outputs": []
    },
    {
      "cell_type": "markdown",
      "source": [
        "Step 3. Calculate the conditional probability of selecting a defective product from Factory 1.\n",
        "\n",
        "P_F1_given_D = (P_F1 * P_D_given_F1) / P_D"
      ],
      "metadata": {
        "id": "AIBYOfNNPP-Z"
      }
    },
    {
      "cell_type": "code",
      "source": [
        "P_F1_given_D ="
      ],
      "metadata": {
        "id": "WiHQOmpfT-oi"
      },
      "execution_count": null,
      "outputs": []
    },
    {
      "cell_type": "code",
      "source": [
        "# Print the result\n",
        "print(\"The probability that the selected defective product is from Factory 1 is: %.3f\" %P_F1_given_D)"
      ],
      "metadata": {
        "id": "0LOrkSSsVQQW"
      },
      "execution_count": null,
      "outputs": []
    },
    {
      "cell_type": "markdown",
      "source": [
        "# Problem 4"
      ],
      "metadata": {
        "id": "Wd1CyHRVyqt1"
      }
    },
    {
      "cell_type": "markdown",
      "source": [
        "A company has three departments: Marketing, Finance, and IT. There are 10 employees in the Marketing department, 7 employees in the Finance department, and 8 employees in the IT department. A company event is being planned, and the organizer wants to select 6 employees from the company to form a team. What is the probability that the selected team will have at least one employee from each department?\n",
        "This question is a little bit complicated. This is how we will tackle it:\n",
        "\n",
        "1. You need to find ALL the possible combinations of different ways to select 6 emplyees from the whole company.\n",
        "\n",
        "2. Then you need to find ALL the possible combinations of different ways to select the 6 employees so there is at least 1 employee from each of the three departments.\n",
        "\n",
        "3. Take the ratio of the two counts of combinations will be the answer."
      ],
      "metadata": {
        "id": "4xYjTUGmyq5z"
      }
    },
    {
      "cell_type": "markdown",
      "source": [
        "Step 1. You'll need to use the library itertools."
      ],
      "metadata": {
        "id": "pAe1qZ6cbnhC"
      }
    },
    {
      "cell_type": "code",
      "source": [
        "import"
      ],
      "metadata": {
        "id": "MiMgPlYpb0_O"
      },
      "execution_count": null,
      "outputs": []
    },
    {
      "cell_type": "markdown",
      "source": [
        "Step 2. Enter the number of employees in each department."
      ],
      "metadata": {
        "id": "Q9iSAdO_b2-y"
      }
    },
    {
      "cell_type": "code",
      "source": [
        "marketing_employees =\n",
        "finance_employees =\n",
        "it_employees ="
      ],
      "metadata": {
        "id": "_b4YqIh2b-mh"
      },
      "execution_count": null,
      "outputs": []
    },
    {
      "cell_type": "markdown",
      "source": [
        "Step 3. Enter the total number of employees in the company"
      ],
      "metadata": {
        "id": "oSyy2d22cA3x"
      }
    },
    {
      "cell_type": "code",
      "source": [
        "total_employees ="
      ],
      "metadata": {
        "id": "T0QXnAEzcF3Z"
      },
      "execution_count": null,
      "outputs": []
    },
    {
      "cell_type": "markdown",
      "source": [
        "Step 4. Create every combination to select 6 employees from the company. You will be using itertools.combinations. We've provided you with the code below, you need to enter the variable in the range and the number of combinations we want. Change the values where you see a question mark (?)."
      ],
      "metadata": {
        "id": "r88jPvegcIHP"
      }
    },
    {
      "cell_type": "code",
      "source": [
        "total_combinations = len(list(itertools.combinations(range(?), ?)))\n",
        "print(\"total_combinations=\", total_combinations)"
      ],
      "metadata": {
        "id": "DD-TxoQiccp6"
      },
      "execution_count": null,
      "outputs": []
    },
    {
      "cell_type": "markdown",
      "source": [
        "Step 5. Calculate the total number of ways to select 6 employees with at least one from each department. In the code below, set each variable to zero. For each selection, enter the appropriate department variable in the code below (where you see the question marks below)."
      ],
      "metadata": {
        "id": "SlutcIIIdwbm"
      }
    },
    {
      "cell_type": "code",
      "source": [
        "department_combinations =\n",
        "ma=\n",
        "fi=\n",
        "it=\n",
        "\n",
        "for ma in range(0, 7):\n",
        "    for fi in range(0, 7):\n",
        "        for it in range(0, 7):\n",
        "            if ma + fi + it == 6:\n",
        "                # count the number of combinations for this combination of employees\n",
        "                marketing_selections = len(list(itertools.combinations(range(?), ma)))\n",
        "                finance_selections = len(list(itertools.combinations(range(?), fi)))\n",
        "                it_selections = len(list(itertools.combinations(range(?), it)))\n",
        "                if (ma>=1 and fi>=1 and it>=1):\n",
        "                    department_combinations += marketing_selections * finance_selections * it_selections\n",
        "                    print(\"(marketing, finance, it)= %i %i %i\" %(ma,fi,it), \"department_combinations=\", department_combinations)\n"
      ],
      "metadata": {
        "id": "tZsHWvpldwFw"
      },
      "execution_count": null,
      "outputs": []
    },
    {
      "cell_type": "markdown",
      "source": [
        "Step 6. Find the probability of selecting at least one employee from each department. You'll be using two variables that you've created in a simple arithmetic calculation."
      ],
      "metadata": {
        "id": "ytkfKI_6fkky"
      }
    },
    {
      "cell_type": "code",
      "source": [
        "probability =\n",
        "print(\"Probability of selecting at least one employee from each department: %.5f\" %probability)"
      ],
      "metadata": {
        "id": "L6uJy8NxgBUI"
      },
      "execution_count": null,
      "outputs": []
    }
  ]
}