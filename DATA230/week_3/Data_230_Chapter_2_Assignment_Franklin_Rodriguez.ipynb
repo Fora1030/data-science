{
  "cells": [
    {
      "cell_type": "markdown",
      "metadata": {
        "id": "CRNT99IsybbR"
      },
      "source": [
        "# Instructions"
      ]
    },
    {
      "cell_type": "markdown",
      "metadata": {
        "id": "eS_tWt3pyfY0"
      },
      "source": [
        "In this assignment, you will be asked to demonstrate your understanding of probability concepts as covered in Chapter 2 of *Essential Math for Data Science* by Thomas Nield. The assignment consists of four problems, which require you to apply probability concepts to real-world scenarios. We will step you through each calculation.\n"
      ]
    },
    {
      "cell_type": "markdown",
      "metadata": {
        "id": "gwgEMFWUye2V"
      },
      "source": [
        "# Problem 1"
      ]
    },
    {
      "cell_type": "markdown",
      "metadata": {
        "id": "uup1-p-9ynPr"
      },
      "source": [
        "A survey of 500 people was conducted to determine how many people own a pet, and how many people own a car. The results showed that 300 people own a pet, 150 people own a car, and 100 people own both a pet and a car. What is the probability that a randomly selected person owns a pet or a car?"
      ]
    },
    {
      "cell_type": "markdown",
      "metadata": {
        "id": "Xc387Jk0IoBU"
      },
      "source": [
        "Step 1. Define the necessary variables."
      ]
    },
    {
      "cell_type": "code",
      "execution_count": 1,
      "metadata": {
        "id": "tdYBZjhuIr2o"
      },
      "outputs": [],
      "source": [
        "total_people = 500\n",
        "pet_owners = 300\n",
        "car_owners = 150\n",
        "both_owners = 100"
      ]
    },
    {
      "cell_type": "markdown",
      "metadata": {
        "id": "fBmqO1uqIWmY"
      },
      "source": [
        "Step 2. In the book, you should read more about the \"sum rule of probability\" that ensures every joint event is only counted once. P(A or B) = P(A) + P(B) - P(A and B) where P(A) is the probability of owning a pet, P(B) is the probability of owning a car, and P(A and B) is the probability of owning both a pet and a car. Enter the equation below."
      ]
    },
    {
      "cell_type": "code",
      "execution_count": 2,
      "metadata": {
        "id": "UlxkQDB1I1e0"
      },
      "outputs": [
        {
          "name": "stdout",
          "output_type": "stream",
          "text": [
            "The probability of owning a pet or a car is: 0.7\n"
          ]
        }
      ],
      "source": [
        "p_pet_or_car = ((pet_owners/total_people) + (car_owners/total_people)) - (both_owners/total_people)\n",
        "print(\"The probability of owning a pet or a car is:\", p_pet_or_car)"
      ]
    },
    {
      "cell_type": "markdown",
      "metadata": {
        "id": "2f-oZbX28ouh"
      },
      "source": [
        "# Problem 2"
      ]
    },
    {
      "cell_type": "markdown",
      "metadata": {
        "id": "A7xe6sMK8uPq"
      },
      "source": [
        "Continue problem 1: A survey was conducted to determine the probability of a person owning a car given that the person owns a pet. The results showed that 100 out of 300 pet owners also own a car. What is the probability that a randomly selected person owns a pet and a car?\n"
      ]
    },
    {
      "cell_type": "markdown",
      "metadata": {
        "id": "Yw5envS78mg2"
      },
      "source": [
        "Step 1. Define the necessary variables"
      ]
    },
    {
      "cell_type": "code",
      "execution_count": 3,
      "metadata": {
        "id": "nPJR7ewhLXXp"
      },
      "outputs": [],
      "source": [
        "total_people = 300\n",
        "pet_owners = 300\n",
        "car_owners = 100\n",
        "both_owners = 100"
      ]
    },
    {
      "cell_type": "markdown",
      "metadata": {
        "id": "7d28DAXKLa3v"
      },
      "source": [
        "Step 2. Find the probability of people who own both car and pet and another to calculate the probability of pet owners.\n"
      ]
    },
    {
      "cell_type": "code",
      "execution_count": 4,
      "metadata": {
        "id": "M9ir59IgMATb"
      },
      "outputs": [],
      "source": [
        "p_pet_and_car = (both_owners/total_people)\n",
        "p_pet_owners  = pet_owners/total_people"
      ]
    },
    {
      "cell_type": "markdown",
      "metadata": {
        "id": "DR15iFnaMBtb"
      },
      "source": [
        "Step 3. Calculate the probability of a person owning a car given that the person owns a pet, we can use the formula:\n",
        "\n",
        "P(car|pet) = P(car and pet) / P(pet)"
      ]
    },
    {
      "cell_type": "code",
      "execution_count": 5,
      "metadata": {
        "id": "GLQafJzCMCC9"
      },
      "outputs": [
        {
          "name": "stdout",
          "output_type": "stream",
          "text": [
            "Probability of owning a car given that the person owns a pet: 0.333\n"
          ]
        }
      ],
      "source": [
        "p_car_given_pet = p_pet_and_car/p_pet_owners\n",
        "print(\"Probability of owning a car given that the person owns a pet: %.3f\" %p_car_given_pet)"
      ]
    },
    {
      "cell_type": "markdown",
      "metadata": {
        "id": "Qh4pyRlpyobQ"
      },
      "source": [
        "# Problem 3"
      ]
    },
    {
      "cell_type": "markdown",
      "metadata": {
        "id": "OH-tDHLCyoz2"
      },
      "source": [
        "A company has two factories that produce the same product. Factory 1 produces 60% of the products, while Factory 2 produces 40% of the products. Of the products produced by Factory 1, 5% are defective, while of the products produced by Factory 2, 3% are defective. Answer these two questions:\n",
        "1. What is the probability that a randomly selected product is defective?\n",
        "2. What is the probability that the selected defective product is from Factory 1?"
      ]
    },
    {
      "cell_type": "markdown",
      "metadata": {
        "id": "akjIMWtIO46k"
      },
      "source": [
        "Step 1. Define the probabilities and conditional probabilities."
      ]
    },
    {
      "cell_type": "code",
      "execution_count": 6,
      "metadata": {
        "id": "nQBfY9T8PANf"
      },
      "outputs": [],
      "source": [
        "P_F1 =  0.6 # Probability of selecting from Factory 1\n",
        "P_F2 =  0.4 # Probability of selecting from Factory 2\n",
        "P_D_given_F1 = 0.05 # Probability of selecting a defective product given Factory 1\n",
        "P_D_given_F2 = 0.03 # Probability of selecting a defective product given Factory 2"
      ]
    },
    {
      "cell_type": "markdown",
      "metadata": {
        "id": "krDPSlsPPFho"
      },
      "source": [
        "Step 2. Calculate the overall probability of selecting a defective product.\n",
        "\n",
        "To solve this problem, we can use the law of total probability. We can break down the probability of a randomly selected product being defective into two cases: the probability that the product came from Factory 1 and is defective, and the probability that the product came from Factory 2 and is defective. We can then add these two probabilities to get the total probability of a randomly selected product being defective.\n",
        "\n",
        " Let D be the event that a product is defective, F1 be the event that a product came from Factory 1, and F2 be the event that a product came from Factory 2. We want to find P(D), the probability that a randomly selected product is defective.\n",
        "\n",
        "Using the law of total probability, we have:\n",
        "\n",
        "P(D) = P(D|F1)P(F1) + P(D|F2)P(F2)"
      ]
    },
    {
      "cell_type": "code",
      "execution_count": 7,
      "metadata": {
        "id": "hskxhXoEPL_6"
      },
      "outputs": [
        {
          "name": "stdout",
          "output_type": "stream",
          "text": [
            "The probability that a randomly selected product is defective: 0.042\n"
          ]
        }
      ],
      "source": [
        "P_D = (P_F1 * P_D_given_F1)+(P_F2 * P_D_given_F2)\n",
        "print(\"The probability that a randomly selected product is defective: %.3f\" %P_D)"
      ]
    },
    {
      "cell_type": "markdown",
      "metadata": {
        "id": "AIBYOfNNPP-Z"
      },
      "source": [
        "Step 3. Calculate the conditional probability of selecting a defective product from Factory 1.\n",
        "\n",
        "P_F1_given_D = (P_F1 * P_D_given_F1) / P_D"
      ]
    },
    {
      "cell_type": "code",
      "execution_count": 8,
      "metadata": {
        "id": "WiHQOmpfT-oi"
      },
      "outputs": [],
      "source": [
        "P_F1_given_D = (P_F1 * P_D_given_F1)/P_D"
      ]
    },
    {
      "cell_type": "code",
      "execution_count": 9,
      "metadata": {
        "id": "0LOrkSSsVQQW"
      },
      "outputs": [
        {
          "name": "stdout",
          "output_type": "stream",
          "text": [
            "The probability that the selected defective product is from Factory 1 is: 0.714\n"
          ]
        }
      ],
      "source": [
        "# Print the result\n",
        "print(\"The probability that the selected defective product is from Factory 1 is: %.3f\" %P_F1_given_D)"
      ]
    },
    {
      "cell_type": "markdown",
      "metadata": {
        "id": "Wd1CyHRVyqt1"
      },
      "source": [
        "# Problem 4"
      ]
    },
    {
      "cell_type": "markdown",
      "metadata": {
        "id": "4xYjTUGmyq5z"
      },
      "source": [
        "A company has three departments: Marketing, Finance, and IT. There are 10 employees in the Marketing department, 7 employees in the Finance department, and 8 employees in the IT department. A company event is being planned, and the organizer wants to select 6 employees from the company to form a team. What is the probability that the selected team will have at least one employee from each department?\n",
        "This question is a little bit complicated. This is how we will tackle it:\n",
        "\n",
        "1. You need to find ALL the possible combinations of different ways to select 6 emplyees from the whole company.\n",
        "\n",
        "2. Then you need to find ALL the possible combinations of different ways to select the 6 employees so there is at least 1 employee from each of the three departments.\n",
        "\n",
        "3. Take the ratio of the two counts of combinations will be the answer."
      ]
    },
    {
      "cell_type": "markdown",
      "metadata": {
        "id": "pAe1qZ6cbnhC"
      },
      "source": [
        "Step 1. You'll need to use the library itertools."
      ]
    },
    {
      "cell_type": "code",
      "execution_count": 10,
      "metadata": {
        "id": "MiMgPlYpb0_O"
      },
      "outputs": [],
      "source": [
        "import itertools"
      ]
    },
    {
      "cell_type": "markdown",
      "metadata": {
        "id": "Q9iSAdO_b2-y"
      },
      "source": [
        "Step 2. Enter the number of employees in each department."
      ]
    },
    {
      "cell_type": "code",
      "execution_count": 11,
      "metadata": {
        "id": "_b4YqIh2b-mh"
      },
      "outputs": [],
      "source": [
        "marketing_employees = 10\n",
        "finance_employees = 7\n",
        "it_employees = 8"
      ]
    },
    {
      "cell_type": "markdown",
      "metadata": {
        "id": "oSyy2d22cA3x"
      },
      "source": [
        "Step 3. Enter the total number of employees in the company"
      ]
    },
    {
      "cell_type": "code",
      "execution_count": 12,
      "metadata": {
        "id": "T0QXnAEzcF3Z"
      },
      "outputs": [],
      "source": [
        "total_employees = sum([marketing_employees, finance_employees, it_employees])"
      ]
    },
    {
      "cell_type": "markdown",
      "metadata": {
        "id": "r88jPvegcIHP"
      },
      "source": [
        "Step 4. Create every combination to select 6 employees from the company. You will be using itertools.combinations. We've provided you with the code below, you need to enter the variable in the range and the number of combinations we want. Change the values where you see a question mark (?)."
      ]
    },
    {
      "cell_type": "code",
      "execution_count": 13,
      "metadata": {
        "id": "DD-TxoQiccp6"
      },
      "outputs": [
        {
          "name": "stdout",
          "output_type": "stream",
          "text": [
            "total_combinations= 177100\n"
          ]
        }
      ],
      "source": [
        "total_combinations = len(list(itertools.combinations(range(total_employees), 6)))\n",
        "print(\"total_combinations=\", total_combinations)"
      ]
    },
    {
      "cell_type": "markdown",
      "metadata": {
        "id": "SlutcIIIdwbm"
      },
      "source": [
        "Step 5. Calculate the total number of ways to select 6 employees with at least one from each department. In the code below, set each variable to zero. For each selection, enter the appropriate department variable in the code below (where you see the question marks below)."
      ]
    },
    {
      "cell_type": "code",
      "execution_count": 14,
      "metadata": {
        "id": "tZsHWvpldwFw"
      },
      "outputs": [
        {
          "name": "stdout",
          "output_type": "stream",
          "text": [
            "(marketing, finance, it)= 1 1 4 department_combinations= 4900\n",
            "(marketing, finance, it)= 1 2 3 department_combinations= 16660\n",
            "(marketing, finance, it)= 1 3 2 department_combinations= 26460\n",
            "(marketing, finance, it)= 1 4 1 department_combinations= 29260\n",
            "(marketing, finance, it)= 2 1 3 department_combinations= 46900\n",
            "(marketing, finance, it)= 2 2 2 department_combinations= 73360\n",
            "(marketing, finance, it)= 2 3 1 department_combinations= 85960\n",
            "(marketing, finance, it)= 3 1 2 department_combinations= 109480\n",
            "(marketing, finance, it)= 3 2 1 department_combinations= 129640\n",
            "(marketing, finance, it)= 4 1 1 department_combinations= 141400\n"
          ]
        }
      ],
      "source": [
        "department_combinations = 0 \n",
        "ma = 0\n",
        "fi = 0 \n",
        "it = 0\n",
        "at_least_1_comb = tuple()\n",
        "\n",
        "for ma in range(0, 7):\n",
        "    for fi in range(0, 7):\n",
        "        for it in range(0, 7):\n",
        "            if ma + fi + it == 6:\n",
        "                # count the number of combinations for this combination of employees\n",
        "                marketing_selections = len(list(itertools.combinations(range(marketing_employees), ma)))\n",
        "                finance_selections = len(list(itertools.combinations(range(finance_employees), fi)))\n",
        "                it_selections = len(list(itertools.combinations(range(it_employees), it)))\n",
        "                if (ma>=1 and fi>=1 and it>=1):\n",
        "                    department_combinations += marketing_selections * finance_selections * it_selections\n",
        "                    at_least_1_comb = at_least_1_comb + ((ma, fi, it),)\n",
        "                    print(\"(marketing, finance, it)= %i %i %i\" %(ma,fi,it), \"department_combinations=\", department_combinations)\n"
      ]
    },
    {
      "cell_type": "markdown",
      "metadata": {
        "id": "ytkfKI_6fkky"
      },
      "source": [
        "Step 6. Find the probability of selecting at least one employee from each department. You'll be using two variables that you've created in a simple arithmetic calculation."
      ]
    },
    {
      "cell_type": "code",
      "execution_count": 15,
      "metadata": {
        "id": "L6uJy8NxgBUI"
      },
      "outputs": [
        {
          "name": "stdout",
          "output_type": "stream",
          "text": [
            "Probability of selecting at least one employee from each department: 0.79842\n"
          ]
        }
      ],
      "source": [
        "probability = department_combinations / total_combinations\n",
        "print(\"Probability of selecting at least one employee from each department: %.5f\" %probability)"
      ]
    }
  ],
  "metadata": {
    "colab": {
      "provenance": []
    },
    "kernelspec": {
      "display_name": "Python 3",
      "name": "python3"
    },
    "language_info": {
      "codemirror_mode": {
        "name": "ipython",
        "version": 3
      },
      "file_extension": ".py",
      "mimetype": "text/x-python",
      "name": "python",
      "nbconvert_exporter": "python",
      "pygments_lexer": "ipython3",
      "version": "3.12.0"
    }
  },
  "nbformat": 4,
  "nbformat_minor": 0
}
