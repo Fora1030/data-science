{
  "cells": [
    {
      "cell_type": "markdown",
      "metadata": {
        "id": "ezr8nemKZBrU"
      },
      "source": [
        "# Chapter 2 Quiz Instructions"
      ]
    },
    {
      "cell_type": "markdown",
      "metadata": {
        "id": "hwiRLwX_YBjB"
      },
      "source": [
        "Read Chapter 2 of *Essential Math for Data Science* by Thomas Nield. This is available to you through UMGC's Library. Look closely at the questions at the end of the chapter and then look at the solutions provided in the appendix. When you are ready, work through this notebook to answer these quiz questions. Once you are satisfied with your answers, go to the classroom to submit your answers. You have two attempts, so if you miss a question, come back here to work out another answer."
      ]
    },
    {
      "cell_type": "markdown",
      "metadata": {
        "id": "Sa4ma3j-YIKI"
      },
      "source": [
        "# Question 1"
      ]
    },
    {
      "cell_type": "markdown",
      "metadata": {
        "id": "TckyK3cJYE-3"
      },
      "source": [
        "There is a 20% chance of rain today, and a 60% chance your umbrella order will arrive on time. What is the probability it will rain AND your umbrella will not arrive?\n",
        "\n",
        "A) 0.08\n",
        "\n",
        "B) 0.20\n",
        "\n",
        "C) 0.28\n",
        "\n",
        "D) 0.36\n"
      ]
    },
    {
      "cell_type": "markdown",
      "metadata": {
        "id": "rZSjfMIMv6fT"
      },
      "source": [
        "Enter the probability of rain and having your umbrella below.\n",
        "\n",
        "Enter the correct operator (*,+,-,/) where the question mark (?) is below."
      ]
    },
    {
      "cell_type": "code",
      "execution_count": 5,
      "metadata": {
        "id": "d5Yb308eYkNZ"
      },
      "outputs": [
        {
          "data": {
            "text/plain": [
              "0.08"
            ]
          },
          "execution_count": 5,
          "metadata": {},
          "output_type": "execute_result"
        }
      ],
      "source": [
        "rain_prob = 0.2\n",
        "umbrella_prob = 0.6\n",
        "prob = rain_prob * (1 - umbrella_prob)\n",
        "round(prob, 2)"
      ]
    },
    {
      "cell_type": "markdown",
      "metadata": {
        "id": "EDExoPZmYNuj"
      },
      "source": [
        "# Question 2"
      ]
    },
    {
      "cell_type": "markdown",
      "metadata": {
        "id": "IjHCNrWIYfJF"
      },
      "source": [
        "There is a 30% chance of rain today, and a 40% chance your umbrella order will arrive on time. You will stay at home if it rains AND your umbrella does not arrive. What is the probability you will go out today?\n",
        "\n",
        "A) 0.24\n",
        "\n",
        "B) 0.48\n",
        "\n",
        "C) 0.72\n",
        "\n",
        "D) 0.82"
      ]
    },
    {
      "cell_type": "markdown",
      "metadata": {
        "id": "sxfMjwnlwcdF"
      },
      "source": [
        "Enter the probability of rain and having your umbrella below.\n",
        "\n",
        "Enter the correct operator (*,+,-,/) where the question mark (?) is below."
      ]
    },
    {
      "cell_type": "code",
      "execution_count": 8,
      "metadata": {
        "id": "j8yrjp69Yr8P"
      },
      "outputs": [
        {
          "data": {
            "text/plain": [
              "0.82"
            ]
          },
          "execution_count": 8,
          "metadata": {},
          "output_type": "execute_result"
        }
      ],
      "source": [
        "rain_prob = 0.3\n",
        "umbrella_prob = 0.4\n",
        "prob = 1 - (rain_prob * (1 - umbrella_prob))\n",
        "round(prob, 2)"
      ]
    },
    {
      "cell_type": "markdown",
      "metadata": {
        "id": "4v59F5YQYOXI"
      },
      "source": [
        "# Question 3"
      ]
    },
    {
      "cell_type": "markdown",
      "metadata": {
        "id": "Gi7whmrlYsjk"
      },
      "source": [
        "There is a 40% chance of rain today, and a 60% chance your umbrella order will arrive on time. However, you found out if it does not rain there is only a 30% chance your umbrella will arrive on time. What is the probability it will not rain OR your umbrella will not arrive?\n",
        "\n",
        "A) 0.22\n",
        "\n",
        "B) 0.38\n",
        "\n",
        "C) 0.58\n",
        "\n",
        "D) 0.82\n"
      ]
    },
    {
      "cell_type": "markdown",
      "metadata": {
        "id": "Ppy49Igvw83q"
      },
      "source": [
        "Enter the probability of rain and your umbrella arriving below. Then enter the probability of not raining only if your umbrella arrives.\n",
        "\n",
        "\n",
        "\n",
        "Enter the correct operators (*,+,-,/) where the question mark (?) are below. Hint: Use Question 2 in this workbook as well as Questions 2 and 3 from the book and answers in Appendix B. note- the operators are NOT all the same."
      ]
    },
    {
      "cell_type": "code",
      "execution_count": 19,
      "metadata": {
        "id": "cCnH2N9yYv0-"
      },
      "outputs": [
        {
          "data": {
            "text/plain": [
              "0.58"
            ]
          },
          "execution_count": 19,
          "metadata": {},
          "output_type": "execute_result"
        }
      ],
      "source": [
        "# this is a conditional probability problem below, we step through the math for you\n",
        "# p(B | ~ R)=0.3 so p(~B | ~R)=1-0.3=0.7\n",
        "# p(R)=0.4  so p(~ R)=1-0.4=0.6\n",
        "# p(B)=0.6  so p(~ B)=1-0.6=0.4\n",
        "# p(B and ~R)=p(~R)p(B | ~R)=0.6x0.3=0.18\n",
        "# p(~B and ~R)=p(~R)p(~B | ~R)=0.6x0.7=0.42\n",
        "# p(~R OR ~ B)=p(~R) +p(~B) -p(~R and p(~B|~R))=?\n",
        "rain_prob = 0.4\n",
        "umbrella_prob = 0.6\n",
        "no_rain_given_no_umbrella_prob = 0.7\n",
        "prob =(1 - rain_prob) + (1 - umbrella_prob) - (1 - rain_prob) * no_rain_given_no_umbrella_prob\n",
        "round(prob, 2)"
      ]
    },
    {
      "cell_type": "markdown",
      "metadata": {
        "id": "KTHxSFZhYOvl"
      },
      "source": [
        "# Question 4"
      ]
    },
    {
      "cell_type": "markdown",
      "metadata": {
        "id": "rAYRzaA3Ywi2"
      },
      "source": [
        "You have 240 passengers booked on a flight from Los Angeles to New York. However, it is Los Angeles on a Friday evening and you estimate each passenger is 20% likely to not show up. You want to overbook by 5 seats. What is the probability that at least 5 passengers will not show up?\n",
        "\n",
        "A) 0.012\n",
        "\n",
        "B) 0.032\n",
        "\n",
        "C) 0.064\n",
        "\n",
        "D) 1.000\n"
      ]
    },
    {
      "cell_type": "markdown",
      "metadata": {
        "id": "rYO51Uec0EfZ"
      },
      "source": [
        "Enter the number of passengers (n), probability of no shows (p), and number of no shows (k). Look at question 4 from the book and the solution in Appendix B.\n",
        "\n",
        "Hint: it's preferred and more accurate to use binomial distribution for this question. We will use Scipy to calculate the probability mass function (pmf) which calculates the probability that a discrete random variable will be a specific value."
      ]
    },
    {
      "cell_type": "code",
      "execution_count": 26,
      "metadata": {
        "id": "JSRS4GepY37R"
      },
      "outputs": [
        {
          "name": "stdout",
          "output_type": "stream",
          "text": [
            "1.0\n"
          ]
        }
      ],
      "source": [
        "# This is a binomial problem and we will add up the probabilities of the 5 passengers not showing.\n",
        "from scipy.stats import binom\n",
        "\n",
        "n = 240\n",
        "p = 0.2\n",
        "k = 5\n",
        "\n",
        "# calculate the probability of 0 to 4 passengers not showing up\n",
        "prob = sum(binom.pmf(i, n, p) for i in range(0,k-1))\n",
        "\n",
        "# calculate the probability of at least 5 passengers not showing up\n",
        "prob_at_least_5 = 1 - prob\n",
        "\n",
        "print(round(prob_at_least_5, 3))"
      ]
    },
    {
      "cell_type": "markdown",
      "metadata": {
        "id": "9MxoFsgEYPcT"
      },
      "source": [
        "# Question 5"
      ]
    },
    {
      "cell_type": "markdown",
      "metadata": {
        "id": "q1XNlNw-Y4r2"
      },
      "source": [
        "You flipped a coin 350 times and got heads 200 times and tails 150 times. Do you think this coin has any good probability of being fair? Why or why not?\n",
        "\n",
        "A) Yes, because the probability of 200 heads is close to 50%\n",
        "\n",
        "B) Yes, because the probability of 150 tails is close to 50%\n",
        "\n",
        "C) No, because the probability of 200 heads is close to   0%\n",
        "\n",
        "D) No, because the probability of 150 tails is only near 20%\n"
      ]
    },
    {
      "cell_type": "markdown",
      "metadata": {
        "id": "_ylHL09-_adH"
      },
      "source": [
        "We will again use binomial distribution for this problem. Enter the number of flips, probability of heads, and number of heads observed.\n",
        "\n",
        "Hint: you'll need to input the probability of heads assuming it is a fair coin.\n",
        "\n",
        "Again, we will use the probabilty mass function to calculate the probability of getting the exact number of results from the coin toss.\n"
      ]
    },
    {
      "cell_type": "code",
      "execution_count": null,
      "metadata": {},
      "outputs": [],
      "source": []
    },
    {
      "cell_type": "code",
      "execution_count": null,
      "metadata": {},
      "outputs": [],
      "source": []
    },
    {
      "cell_type": "code",
      "execution_count": 27,
      "metadata": {
        "id": "YTrK2s6IY8Rx"
      },
      "outputs": [
        {
          "data": {
            "text/plain": [
              "0.0431"
            ]
          },
          "execution_count": 27,
          "metadata": {},
          "output_type": "execute_result"
        }
      ],
      "source": [
        "from scipy.stats import binom\n",
        "\n",
        "n =   350# number of flips\n",
        "p =   200/350# probability of heads under null hypothesis\n",
        "x =   200# number of heads observed\n",
        "\n",
        "p_fairness = binom.pmf(x, n, p)\n",
        "round(p_fairness,4)"
      ]
    }
  ],
  "metadata": {
    "colab": {
      "provenance": []
    },
    "kernelspec": {
      "display_name": "Python 3",
      "name": "python3"
    },
    "language_info": {
      "codemirror_mode": {
        "name": "ipython",
        "version": 3
      },
      "file_extension": ".py",
      "mimetype": "text/x-python",
      "name": "python",
      "nbconvert_exporter": "python",
      "pygments_lexer": "ipython3",
      "version": "3.12.0"
    }
  },
  "nbformat": 4,
  "nbformat_minor": 0
}
