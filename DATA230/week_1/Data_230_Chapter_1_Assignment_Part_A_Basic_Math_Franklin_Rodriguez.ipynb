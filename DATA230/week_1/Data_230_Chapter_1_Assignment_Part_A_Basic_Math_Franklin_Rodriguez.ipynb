{
  "cells": [
    {
      "cell_type": "markdown",
      "metadata": {
        "id": "EWCUKbaqg8yM"
      },
      "source": [
        "You will be applying what you learned in Chapter 1 in this assignment. Enter the python code needed to solve each problem below. You will need this notebook to submit your answers in the classroom."
      ]
    },
    {
      "cell_type": "markdown",
      "metadata": {
        "id": "RiULWuTaIg_N"
      },
      "source": [
        "# Question 1 Order of Operations\n",
        "\n"
      ]
    },
    {
      "cell_type": "markdown",
      "metadata": {
        "id": "aXa4wV5DIlO-"
      },
      "source": [
        "Evaluate the following expression using the correct Order of Operations: 3 + 5 * (7 - 2)^2.\n",
        "\n",
        "*hint-look at the book and previous quizzes for help performing an arithmitic calculation in python.Enter the calculation where you see the question mark (?) below*"
      ]
    },
    {
      "cell_type": "code",
      "execution_count": 1,
      "metadata": {
        "id": "a7LYq6NikC0j"
      },
      "outputs": [
        {
          "name": "stdout",
          "output_type": "stream",
          "text": [
            "128\n"
          ]
        }
      ],
      "source": [
        "Question1 = 3 + (5 * (7-2)**2)\n",
        "print(Question1)"
      ]
    },
    {
      "cell_type": "markdown",
      "metadata": {
        "id": "QfP_As_8IqRd"
      },
      "source": [
        "# Question 2 Variables\n"
      ]
    },
    {
      "cell_type": "markdown",
      "metadata": {
        "id": "YLskMee5Ipwa"
      },
      "source": [
        "Solve for x: 2x + 7 = 15\n",
        "\n",
        "*Under each comment below, write the next steps in solving the equation. Think of this as showing your work if you were writing on a piece of paper*"
      ]
    },
    {
      "cell_type": "code",
      "execution_count": 18,
      "metadata": {
        "id": "Yt7MJdfwlaK6"
      },
      "outputs": [
        {
          "name": "stdout",
          "output_type": "stream",
          "text": [
            "Using SymPy =  [4]\n",
            "Using Python only =  4.0\n"
          ]
        }
      ],
      "source": [
        "import sympy\n",
        "\n",
        "# suing sympy to solve the equation\n",
        "# define x as a symbol to solve for\n",
        "x = sympy.Symbol('x')\n",
        "equation = sympy.Eq(2 * x + 7, 15)\n",
        "x = sympy.solve(equation, x)\n",
        "print(\"Using SymPy = \",x) # prints [4]\n",
        "\n",
        "# Using python standard library to solve the equation\n",
        "# Subtract 7 from both sides of the equation\n",
        "left, right = ((2,7-7), (15-7))\n",
        "# Simplify the right side of the equation\n",
        "left, right = tuple(num for num in left if num != 0), (right)\n",
        "# Divide both sides by 2\n",
        "# Simplify the right side of the equation\n",
        "left, right = tuple(num/2 for num in left), (right/2)\n",
        "x = right\n",
        "# Print the value of x\n",
        "print(\"Using Python only = \",x) # prints 4.0\n",
        "\n"
      ]
    },
    {
      "cell_type": "markdown",
      "metadata": {
        "id": "Alhe_RxaLeKk"
      },
      "source": [
        "# Question 3 Functions"
      ]
    },
    {
      "cell_type": "markdown",
      "metadata": {
        "id": "lHvvTfhaLlzZ"
      },
      "source": [
        "Evaluate the function f(x) = 2x^2 - 3x + 1 at x = 4\n",
        "\n",
        "*hint: refer to Example 1-6 in Chapter 1. Enter the function below where you see the question mark(?). Next, enter the value for x where you see a question mark (?)*"
      ]
    },
    {
      "cell_type": "code",
      "execution_count": 20,
      "metadata": {
        "id": "uwIMzZVJLuBl"
      },
      "outputs": [
        {
          "name": "stdout",
          "output_type": "stream",
          "text": [
            "21\n"
          ]
        }
      ],
      "source": [
        "# Define the function f(x)\n",
        "def f(x):\n",
        "    return (2*x**2) - (3*x) + 1\n",
        "\n",
        "# Evaluate the function when x is 4.\n",
        "Question4 = f(4)\n",
        "\n",
        "# Print the result\n",
        "print(Question4)"
      ]
    },
    {
      "cell_type": "markdown",
      "metadata": {
        "id": "-aeA9vGWMUhJ"
      },
      "source": [
        "# Question 4 Summation"
      ]
    },
    {
      "cell_type": "markdown",
      "metadata": {
        "id": "jkdmfD9pMdU-"
      },
      "source": [
        "Evaluate the following sum: 1 + 3 + 5 + ... + 99\n",
        "\n",
        "*Hint: Follow the example 1-10 provided in Chapter 1 of the book.\n",
        "Note we are asking for odd numbers between 1 and 99. The range function's last parameter sets the increments. Enter the code in below where you see the question mark (?)*"
      ]
    },
    {
      "cell_type": "code",
      "execution_count": 26,
      "metadata": {
        "id": "8joVZqPhqmFw"
      },
      "outputs": [
        {
          "name": "stdout",
          "output_type": "stream",
          "text": [
            "2500\n"
          ]
        }
      ],
      "source": [
        "Summation=sum(i for i in range(1,100) if i % 2 != 0)\n",
        "print(Summation)"
      ]
    },
    {
      "cell_type": "markdown",
      "metadata": {
        "id": "v-9thGCAOFGZ"
      },
      "source": [
        "# Question 5 Logarithms"
      ]
    },
    {
      "cell_type": "markdown",
      "metadata": {
        "id": "vRNpi1zeOLrq"
      },
      "source": [
        "Simplify the following expression: log(base 2) 8 + log(base 2) 4\n",
        "\n",
        "*Hint: Look at Table 1-3 on how to use operators with logarithms. We have setup the code structure below using the log2 method in the Math module. Enter the values in the code below where you see the question mark (?)*"
      ]
    },
    {
      "cell_type": "code",
      "execution_count": 27,
      "metadata": {
        "id": "CkCO8YQ_OODZ"
      },
      "outputs": [
        {
          "name": "stdout",
          "output_type": "stream",
          "text": [
            "5.0\n"
          ]
        }
      ],
      "source": [
        "import math\n",
        "\n",
        "Question5 = math.log2(8) + math.log2(4)\n",
        "\n",
        "# Print the result\n",
        "print(Question5)"
      ]
    },
    {
      "cell_type": "markdown",
      "metadata": {
        "id": "-fzqlrfsOXrz"
      },
      "source": [
        "# Question 6 Limits"
      ]
    },
    {
      "cell_type": "markdown",
      "metadata": {
        "id": "gr4LzQdPOcTf"
      },
      "source": [
        "Find the limit of the function f(x) = (x^2 - 4)/(x - 2) as x approaches 2\n",
        "\n",
        "*Hint: Follow the example 1-16 provided in Chapter 1 of the book. Enter the function in the code below where you see the question mark (?) AND in the parameters to find the limit.*\n",
        "\n"
      ]
    },
    {
      "cell_type": "code",
      "execution_count": 28,
      "metadata": {
        "id": "qY2cI-9ft7tU"
      },
      "outputs": [
        {
          "name": "stdout",
          "output_type": "stream",
          "text": [
            "4\n"
          ]
        }
      ],
      "source": [
        "from sympy import *\n",
        "\n",
        "x = symbols('x')\n",
        "f = (x**2 - 4)/(x-2)\n",
        "Question6 = limit(f,x,2)\n",
        "\n",
        "print(Question6)"
      ]
    }
  ],
  "metadata": {
    "colab": {
      "provenance": []
    },
    "kernelspec": {
      "display_name": "Python 3",
      "name": "python3"
    },
    "language_info": {
      "codemirror_mode": {
        "name": "ipython",
        "version": 3
      },
      "file_extension": ".py",
      "mimetype": "text/x-python",
      "name": "python",
      "nbconvert_exporter": "python",
      "pygments_lexer": "ipython3",
      "version": "3.12.0"
    }
  },
  "nbformat": 4,
  "nbformat_minor": 0
}
