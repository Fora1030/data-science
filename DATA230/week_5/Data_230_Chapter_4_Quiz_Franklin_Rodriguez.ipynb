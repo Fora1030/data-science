{
  "cells": [
    {
      "cell_type": "markdown",
      "metadata": {
        "id": "687teS5DZYlF"
      },
      "source": [
        "\n",
        "\n",
        "# Chapter 4 Quiz Instructions"
      ]
    },
    {
      "cell_type": "markdown",
      "metadata": {
        "id": "dqjNayHVZmgx"
      },
      "source": [
        "Read Chapter 4 of *Essential Math for Data Science* by Thomas Nield. This is available to you through UMGC's Library. Look closely at the questions at the end of the chapter and then look at the solutions provided in the appendix. When you are ready, work through this notebook to answer these quiz questions. Once you are satisfied with your answers, go to the classroom to submit your answers. You have two attempts, so if you miss a question, come back here to work out another answer."
      ]
    },
    {
      "cell_type": "markdown",
      "metadata": {
        "id": "TzbOTT0dZpYb"
      },
      "source": [
        "# Question 1"
      ]
    },
    {
      "cell_type": "markdown",
      "metadata": {
        "id": "OexPbBYYZr-d"
      },
      "source": [
        "1.\tLet u = (1, 2, 3) be a vector in R^3 (3-dimensional Cartesian space). Which of the following matrices (or vectors since a vector is a special case of a matrix) represents the transformation that projects u onto the x-y plane?\n",
        "\n",
        "\n",
        "(a) [1,2,0]\n",
        "\n",
        "(b) [2,1,0]\n",
        "\n",
        "(c) [[1, 0, 0], [0, 2, 0], [0, 0, 3]]\n",
        "\n",
        "(d) [[1, 0, 0], [0, 2, 0], [0, 0, 0]]"
      ]
    },
    {
      "cell_type": "markdown",
      "metadata": {
        "id": "QUIWaxo1Uawi"
      },
      "source": [
        "Hint: To project u onto the x-y plane, we need to remove the z-component of u.\n",
        "This can be done by multiplying u by the projection matrix onto the x-y plane,\n",
        "which is [[1, 0, 0], [0, 1, 0], [0, 0, 0]].\n",
        "Therefore, the transformation we need is the product of this projection matrix and the vector u, which is [[1, 0, 0], [0, 1, 0], [0, 0, 0]] times (1, 2, 3)."
      ]
    },
    {
      "cell_type": "markdown",
      "metadata": {
        "id": "8AfW7FaFUly8"
      },
      "source": [
        "Enter the vector and projection matrix into the python code below to find the transformed and rotated vector."
      ]
    },
    {
      "cell_type": "code",
      "execution_count": 8,
      "metadata": {
        "id": "y7LzEaWPZsQ9"
      },
      "outputs": [
        {
          "name": "stdout",
          "output_type": "stream",
          "text": [
            "The answer for this transformed and rotated vector = [1 2 0]\n"
          ]
        }
      ],
      "source": [
        "\n",
        "import numpy as np\n",
        "\n",
        "# Define the vector u\n",
        "u = np.array([1, 2, 3])\n",
        "\n",
        "# Define the transformation matrix\n",
        "T = np.array([\n",
        "    [1, 0, 0],\n",
        "    [0, 1, 0],\n",
        "    [0, 0, 0]\n",
        "])\n",
        "\n",
        "# Apply the transformation to u\n",
        "w = np.dot(T, u)\n",
        "print(\"The answer for this transformed and rotated vector =\", w)"
      ]
    },
    {
      "cell_type": "markdown",
      "metadata": {
        "id": "0mPwonDiZtGn"
      },
      "source": [
        "# Question 2"
      ]
    },
    {
      "cell_type": "markdown",
      "metadata": {
        "id": "OyAZax2cZvS4"
      },
      "source": [
        "2.\tLet v = (2, 3) be a vector in R^2. Which of the following matrices (or vector since a vector is a special case of a matrix) represents the transformation that doubles the length of v and rotates it counterclockwise by 90 degrees?\n",
        "\n",
        "\n",
        "(a) [4, 6]\n",
        "\n",
        "(b) [-6,4]\n",
        "\n",
        "(c) [[4,6], [-6, 4]]\n",
        "\n",
        "(d) [[-6, 4], [4, 6]]\n",
        "\n",
        "Hints: A rotation matrix is a square matrix used to describe a rotation in a mathematical or geometric space. It's a fundamental concept in linear algebra and is widely used in various fields, including computer graphics, robotics, physics, and engineering. Rotation matrices are particularly useful for representing and performing rotations in three-dimensional space.\n",
        "\n",
        "A 3x3 rotation matrix represents a rotation in three-dimensional space and has the following general form:\n",
        "\n",
        "scss\n",
        "Copy code\n",
        "R = |  cos(θ)   -sin(θ)   0 |\n",
        "    |  sin(θ)    cos(θ)   0 |\n",
        "    |    0         0      1 |\n",
        "\n",
        "so you can plug in θ as 90 degrees (or π/2 radians) to get the rotation matrix, then multiply the matrix by R^3. Similarly, you can do the same for R^2 questions."
      ]
    },
    {
      "cell_type": "markdown",
      "metadata": {
        "id": "UPV2apEiVVXc"
      },
      "source": [
        "Hints: To double the length of v, we can multiply it by a scalar.\n",
        "To rotate it counterclockwise by 90 degrees, we can use the rotation matrix [[0, -1], [1, 0]].\n",
        "Therefore, the transformation we need is the product of the scalar matrix and\n",
        "the rotation matrix, which is [[0, -2], [2, 0]]. This is equivalent to [[0, -1], [1, 0]] times 2, which is (c)."
      ]
    },
    {
      "cell_type": "markdown",
      "metadata": {
        "id": "XTOAXvp9VtZ1"
      },
      "source": [
        "Enter the vector and roational matrix. Also, enter the value of the scalar where the question mark \"?\" is."
      ]
    },
    {
      "cell_type": "code",
      "execution_count": 3,
      "metadata": {
        "id": "w_yDjRraZvsx"
      },
      "outputs": [
        {
          "name": "stdout",
          "output_type": "stream",
          "text": [
            "The answer for this transformed and rotated vector = [-6  4]\n"
          ]
        }
      ],
      "source": [
        "\n",
        "import numpy as np\n",
        "\n",
        "# Define the vector v\n",
        "v = np.array([2, 3])\n",
        "\n",
        "# Define the transformation matrix\n",
        "T = np.array([[0, -1], [1,0]]) * 2\n",
        "\n",
        "# Apply the transformation to v\n",
        "w = np.dot(T, v)\n",
        "print(\"The answer for this transformed and rotated vector =\", w)"
      ]
    },
    {
      "cell_type": "markdown",
      "metadata": {
        "id": "7N_2zcYvZ1Oc"
      },
      "source": [
        "# Question 3\n",
        "What is the determinant of the matrix below?\n",
        "\n",
        "[2, 3]\n",
        "\n",
        "[4, 5]\n",
        "\n",
        "\n",
        "\n",
        "(a) -2\n",
        "\n",
        "(b) -1\n",
        "\n",
        "(c) 1\n",
        "\n",
        "(d) 2"
      ]
    },
    {
      "cell_type": "markdown",
      "metadata": {
        "id": "pLPq_RYnWtVM"
      },
      "source": [
        "Enter the matrix into the code below."
      ]
    },
    {
      "cell_type": "code",
      "execution_count": 4,
      "metadata": {
        "id": "5qUB7ScfZ1mc"
      },
      "outputs": [
        {
          "name": "stdout",
          "output_type": "stream",
          "text": [
            "det(A) = -2.0\n"
          ]
        }
      ],
      "source": [
        "import numpy as np\n",
        "\n",
        "# Define the matrix A\n",
        "A = np.array([[2,3],[4,5]])\n",
        "\n",
        "# Compute the determinant of A\n",
        "det_A = np.linalg.det(A)\n",
        "print(\"det(A) =\", det_A)"
      ]
    },
    {
      "cell_type": "markdown",
      "metadata": {
        "id": "yHv9vMSlZ3SP"
      },
      "source": [
        "# Question 4\n",
        "Solve the system of equations and choose a correct option as answer:"
      ]
    },
    {
      "cell_type": "markdown",
      "metadata": {
        "id": "z0_DxiqAZ59h"
      },
      "source": [
        "x + y = 5\n",
        "\n",
        "x - y = 1\n",
        "\n",
        "(a) x = 3, y = 2\n",
        "\n",
        "(b) x = 2, y = 3\n",
        "\n",
        "(c) x = 3, y = 1\n",
        "\n",
        "(d) x = 1, y = 3"
      ]
    },
    {
      "cell_type": "markdown",
      "metadata": {
        "id": "DGXB8ABWXn8p"
      },
      "source": [
        "Enter coefficient matrix A and constant vector b in the Python code below. Think carefully about what the coefficients should be for the Matrix A."
      ]
    },
    {
      "cell_type": "code",
      "execution_count": 5,
      "metadata": {
        "id": "mBPT3625Z6Gx"
      },
      "outputs": [
        {
          "name": "stdout",
          "output_type": "stream",
          "text": [
            "x = [3. 2.]\n"
          ]
        }
      ],
      "source": [
        "import numpy as np\n",
        "\n",
        "# Define the coefficient matrix and the constant vector\n",
        "A = np.array([[1, 1], [1, -1]])\n",
        "b = np.array([5,1])\n",
        "\n",
        "# Solve the system of equations\n",
        "x = np.linalg.solve(A, b)\n",
        "print(\"x =\", x)"
      ]
    },
    {
      "cell_type": "markdown",
      "metadata": {
        "id": "GgAWtru6Z68P"
      },
      "source": [
        "# Question 5"
      ]
    },
    {
      "cell_type": "markdown",
      "metadata": {
        "id": "AG1Qs39gZ8vB"
      },
      "source": [
        "5.\tSolve the system of equations and choose a correct option as answer:\n",
        "\n",
        "x + y + z = 6\n",
        "\n",
        "2x - y + z = 3\n",
        "\n",
        "x - y + z = 4\n",
        "\n",
        "(a) x = -1, y = 1, z = 6\n",
        "\n",
        "(b) x = 1, y = 2, z = 3\n",
        "\n",
        "(c) x = 3, y = 1, z = 2\n",
        "\n",
        "(d) x = 2, y = 3, z = 1"
      ]
    },
    {
      "cell_type": "markdown",
      "metadata": {
        "id": "-nYO10OKYvRf"
      },
      "source": [
        "Enter coefficient matrix A and constant vector b in the Python code below. Think carefully about what the coefficients should be for the Matrix A."
      ]
    },
    {
      "cell_type": "code",
      "execution_count": 7,
      "metadata": {
        "id": "NsFifNlcZ839"
      },
      "outputs": [
        {
          "name": "stdout",
          "output_type": "stream",
          "text": [
            "x = [-1.  1.  6.]\n"
          ]
        }
      ],
      "source": [
        "import numpy as np\n",
        "\n",
        "# Define the coefficient matrix and the constant vector\n",
        "A = np.array([[1, 1, 1], [2, -1, 1], [1, -1, 1]])\n",
        "b = np.array([6, 3, 4])\n",
        "\n",
        "# Solve the system of equations\n",
        "x = np.linalg.solve(A, b)\n",
        "print(\"x =\", x)"
      ]
    }
  ],
  "metadata": {
    "colab": {
      "provenance": []
    },
    "kernelspec": {
      "display_name": "Python 3",
      "name": "python3"
    },
    "language_info": {
      "codemirror_mode": {
        "name": "ipython",
        "version": 3
      },
      "file_extension": ".py",
      "mimetype": "text/x-python",
      "name": "python",
      "nbconvert_exporter": "python",
      "pygments_lexer": "ipython3",
      "version": "3.12.0"
    }
  },
  "nbformat": 4,
  "nbformat_minor": 0
}
