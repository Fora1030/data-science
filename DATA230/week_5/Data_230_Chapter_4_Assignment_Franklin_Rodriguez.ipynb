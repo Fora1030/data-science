{
  "cells": [
    {
      "cell_type": "markdown",
      "metadata": {
        "id": "lgiYK3wfQXjr"
      },
      "source": [
        "Welcome to your assignment about concepts covered in Chapter 4 of *Essential Math for Data Science* by Thomas Nield. You will be using linear algebra.\n",
        "\n",
        "In this assignment, you will apply the concepts of linear algebra to solve two real-world problems in data science. The problems are of mid to low difficulty level, and you will need to use Python and the NumPy library to implement the necessary computations.\n",
        "\n",
        "Please read each question carefully and provide detailed explanations for your answers, including any relevant calculations or work. You are also required to provide Python solutions for the technical problems in each question."
      ]
    },
    {
      "cell_type": "markdown",
      "metadata": {
        "id": "1NPMNlgAQUoG"
      },
      "source": [
        "# Problem 1"
      ]
    },
    {
      "cell_type": "markdown",
      "metadata": {
        "id": "jcOJK71EQi_m"
      },
      "source": [
        "Principal Component Analysis (PCA) is a widely used technique for dimensionality reduction in data science. PCA's relationship with linear algebra is central to its functioning and effectiveness. Linear algebra provides the mathematical framework for transforming, extracting meaningful information, and reducing the dimensionality of the data while preserving its essential characteristics. Understanding the underlying linear algebra concepts is essential for grasping the theory and implementation of PCA effectively. In this question, you will use PCA to reduce the dimensionality of a dataset of your choice. For example, an iris dataset in Python looks like this:\n",
        "\n",
        "sepal_length sepal_width petal_length petal_width species\n",
        "\n",
        "5.1 3.5 1.4 0.2 setosa\n",
        "\n",
        "4.9 3.0 1.4 0.2 setosa\n",
        "\n",
        "4.7 3.2 1.3 0.2 setosa\n",
        "\n",
        "4.6 3.1 1.5 0.2 setosa\n",
        "\n",
        "5.0 3.6 1.4 0.2 setosa\n",
        "\n",
        "...\n",
        "\n",
        "The dataset contains 150 rows, each representing a flower. The columns are:\n",
        "\n",
        "sepal_length: the length of the sepal\n",
        "\n",
        "sepal_width: the width of the sepal\n",
        "\n",
        "petal_length: the length of the petal\n",
        "\n",
        "petal_width: the width of the petal\n",
        "\n",
        "species: the species of iris (setosa, versicolor, or virginica)\n",
        "\n",
        "We will be following these steps:\n",
        "\n",
        "1. Load the dataset into a NumPy array.\n",
        "2. Center the data by subtracting the mean from each feature.\n",
        "3. Compute the covariance matrix of the centered data.\n",
        "4. Compute the eigendecomposition of the covariance matrix.\n",
        "5. Choose the top k eigenvectors that correspond to the k largest eigenvalues\n",
        "   where k is the desired number of principal components.\n",
        "6. Transform the centered data using the selected eigenvectors.\n",
        "7. Reconstruct the original data using the transformed data and the\n",
        "   eigenvectors.\n",
        "\n",
        "Write a Python program that implements the above steps and reduces the dimensionality of the dataset. Print the variance explained by the selected principal components for different values of k (e.g., k=2, k=3, k=4). Explain your results in 100 words."
      ]
    },
    {
      "cell_type": "markdown",
      "metadata": {
        "id": "tWQJvB81RYDX"
      },
      "source": [
        "Step 1. Import the necessary libraries. *Nothing to change in the code below*"
      ]
    },
    {
      "cell_type": "code",
      "execution_count": 1,
      "metadata": {
        "id": "x1wGcND-Rckh"
      },
      "outputs": [],
      "source": [
        "from os import read\n",
        "import numpy as np\n",
        "from numpy.linalg import eig, inv\n",
        "from sklearn.datasets import load_iris"
      ]
    },
    {
      "cell_type": "markdown",
      "metadata": {
        "id": "F-6BeYHVRg9r"
      },
      "source": [
        "\n",
        " Step 2. Load the dataset into a NumPy array. *Nothing to change in the code below*\n",
        "\n"
      ]
    },
    {
      "cell_type": "code",
      "execution_count": 2,
      "metadata": {
        "id": "zBlQl0TTR4XF"
      },
      "outputs": [],
      "source": [
        "iris = load_iris()\n",
        "X = iris.data"
      ]
    },
    {
      "cell_type": "markdown",
      "metadata": {
        "id": "f5vfO56VSEY7"
      },
      "source": [
        "Step 3. Center the data by subtracting the mean from each feature. *Nothing to change in the code below*"
      ]
    },
    {
      "cell_type": "code",
      "execution_count": 3,
      "metadata": {
        "id": "VLpeLQkNoJPc"
      },
      "outputs": [],
      "source": [
        "X_centered = X - np.mean(X,axis=0)"
      ]
    },
    {
      "cell_type": "markdown",
      "metadata": {
        "id": "YczdTrAjSVCN"
      },
      "source": [
        "\n",
        "Step 4. Compute the covariance matrix of the centered data. *Nothing to change in the code below*\n"
      ]
    },
    {
      "cell_type": "code",
      "execution_count": 4,
      "metadata": {
        "id": "TmUyH_vXoBk_"
      },
      "outputs": [],
      "source": [
        "covariance_matrix = np.cov(X_centered, rowvar=False)"
      ]
    },
    {
      "cell_type": "markdown",
      "metadata": {
        "id": "Fs_UzEYwoEoO"
      },
      "source": [
        "Step 5. Compute the eigendecomposition of the covariance matrix to obtain the eigenvectors and eigenvalues. *In the code below, enter the function from linalg and the variable name of the covariance matrix. Follow example 4-20 from the book*"
      ]
    },
    {
      "cell_type": "code",
      "execution_count": 5,
      "metadata": {
        "id": "jpv3xgjzo9vS"
      },
      "outputs": [],
      "source": [
        "eigenvalues, eigenvectors = eig(covariance_matrix)"
      ]
    },
    {
      "cell_type": "markdown",
      "metadata": {
        "id": "eZh1lkkMpl2U"
      },
      "source": [
        "Step 6. Choose the top k eigenvectors that correspond to the K largest eigenvalues. *Nothing to change in the code below*"
      ]
    },
    {
      "cell_type": "code",
      "execution_count": 6,
      "metadata": {
        "id": "E_2UPx1dpvC4"
      },
      "outputs": [],
      "source": [
        "k = 2\n",
        "top_k_eigenvectors = eigenvectors[:, :k]"
      ]
    },
    {
      "cell_type": "markdown",
      "metadata": {
        "id": "raezbGQwoXZU"
      },
      "source": [
        "Step 7. Transform the centered data using the selected eigenvectors. *Follow the code in Examples 4-11 and 4-21 to use the correct operator to perform the transformation.*"
      ]
    },
    {
      "cell_type": "code",
      "execution_count": 7,
      "metadata": {
        "id": "PlPKI1IBqNmj"
      },
      "outputs": [],
      "source": [
        "transformed_data = X_centered @ top_k_eigenvectors"
      ]
    },
    {
      "cell_type": "markdown",
      "metadata": {
        "id": "z2EHvpijsMfP"
      },
      "source": [
        "Step 8. Reconstruct the original data using the transformed data and the eigenvectors. *Nothing to change in the code below*"
      ]
    },
    {
      "cell_type": "code",
      "execution_count": 8,
      "metadata": {
        "id": "ePzoXXsisYAr"
      },
      "outputs": [],
      "source": [
        "reconstructed_data = transformed_data @ top_k_eigenvectors.T + np.mean(X, axis=0)"
      ]
    },
    {
      "cell_type": "markdown",
      "metadata": {
        "id": "sAi_W0SSoocM"
      },
      "source": [
        "Step 9. Print the variance explained by the selected principal components for different values of k. *Nothing to change in the code below*"
      ]
    },
    {
      "cell_type": "code",
      "execution_count": 9,
      "metadata": {
        "id": "pl3W4H9NsYqO"
      },
      "outputs": [
        {
          "name": "stdout",
          "output_type": "stream",
          "text": [
            "Variance explained by 2 principal components: 0.98\n",
            "Variance explained by 3 principal components: 0.99\n",
            "Variance explained by 4 principal components: 1.00\n"
          ]
        }
      ],
      "source": [
        "for k in range(2, 5):\n",
        "    top_k_eigenvectors = eigenvectors[:, :k]\n",
        "    transformed_data = X_centered @ top_k_eigenvectors\n",
        "    explained_variance = sum(eigenvalues[:k]) / sum(eigenvalues)\n",
        "    print(f\"Variance explained by {k} principal components: {explained_variance:.2f}\")"
      ]
    },
    {
      "cell_type": "markdown",
      "metadata": {
        "id": "t0xfZvZQz3CO"
      },
      "source": [
        "Step 10. In this text box, explain what the results mean. What did we do in this problem and why did we do it?"
      ]
    },
    {
      "cell_type": "markdown",
      "metadata": {
        "id": "8pV-RBWs-zcw"
      },
      "source": [
        "Your response:\n",
        "\n",
        "To be quite honest I am struggling to fully grasp what the concepts above. Therefore, I will try to explain the way I understand. The variance explained by `n` principal components, describes how much of the original data set variance is captured by using different number of principal components."
      ]
    },
    {
      "cell_type": "markdown",
      "metadata": {},
      "source": [
        "# Problem 2"
      ]
    },
    {
      "cell_type": "markdown",
      "metadata": {
        "id": "yYy8Gm-SSG34"
      },
      "source": [
        "Solving a System of Linear Equations using matrix inversion method\n",
        "\n",
        "Suppose you are given a system of linear equations of the form Ax=b, where A is a square matrix and x and b are vectors.\n",
        "\n",
        "A = [[2, 1, -1],[4, -6, 0],[-2, 7, 2]]\n",
        "\n",
        "b = [5, -2, 9]\n",
        "\n",
        "(you are solving these three equations:\n",
        "\n",
        "2x +y -z = 5\n",
        "\n",
        "4x -6y = -2\n",
        "\n",
        "-2x +7y + 2z = 9)\n",
        "\n",
        "Your task is to solve the system of equations using matrix inversion approach with Python.\n",
        "\n",
        "Print the solution vector x and verify your solution by computing Ax.\n",
        "\n",
        "What does your solution vector x represent?\n",
        "\n",
        "\n"
      ]
    },
    {
      "cell_type": "markdown",
      "metadata": {
        "id": "Sto7cVog7VhT"
      },
      "source": [
        "Step 1. Import numpy as np. Then array from numpy. Next, get inv and solve from linalg. Follow the example 4-18 in the book."
      ]
    },
    {
      "cell_type": "code",
      "execution_count": 11,
      "metadata": {
        "id": "yI-xbj9v3kc-"
      },
      "outputs": [],
      "source": [
        "import numpy as np\n",
        "from numpy.linalg import inv\n",
        "from numpy import array"
      ]
    },
    {
      "cell_type": "markdown",
      "metadata": {
        "id": "mALmfpub7iEu"
      },
      "source": [
        "Step 2. Create the A array and the b array. Follow the example 4-18 in the book to setup your arrays."
      ]
    },
    {
      "cell_type": "code",
      "execution_count": 12,
      "metadata": {
        "id": "pHo0mqVI3w6p"
      },
      "outputs": [],
      "source": [
        "A = np.array([[2, 1, -1], [4, -6, 0], [-2, 7, 2]])\n",
        "b = np.array([5, -2, 9])"
      ]
    },
    {
      "cell_type": "markdown",
      "metadata": {
        "id": "DCMHhIse8uV7"
      },
      "source": [
        "Step 3. Use the solve function (from linalg) to solve Ax=b. This is not in the book, but if you need help you can read about it in the classroom."
      ]
    },
    {
      "cell_type": "code",
      "execution_count": 14,
      "metadata": {
        "id": "Cmz7m8CQ393o"
      },
      "outputs": [
        {
          "name": "stdout",
          "output_type": "stream",
          "text": [
            "The solution using solve in Python for this system of equation is          [2.         1.66666667 0.66666667]\n"
          ]
        }
      ],
      "source": [
        "A_inv = inv(A)\n",
        "x = np.dot(A_inv, b)\n",
        "print(\"The solution using solve in Python for this system of equation is         \", x)"
      ]
    },
    {
      "cell_type": "markdown",
      "metadata": {
        "id": "jigTyO-T9nZD"
      },
      "source": [
        "Step 4. Use the matrix inversion approach to solve Ax=b. Follow example 4-18 in the book."
      ]
    },
    {
      "cell_type": "code",
      "execution_count": 15,
      "metadata": {
        "id": "gv-SImEQ4KYj"
      },
      "outputs": [
        {
          "name": "stdout",
          "output_type": "stream",
          "text": [
            "The solution using matrix inversion approach for this system of equation is [2.         1.66666667 0.66666667]\n"
          ]
        }
      ],
      "source": [
        "x = inv(A).dot(b)\n",
        "print(\"The solution using matrix inversion approach for this system of equation is\", x)"
      ]
    },
    {
      "cell_type": "markdown",
      "metadata": {
        "id": "p9w3uQFBpTTj"
      },
      "source": [
        "Step 5. Print Ax to verify if Ax=b. *Nothing to change in the code below*"
      ]
    },
    {
      "cell_type": "code",
      "execution_count": 16,
      "metadata": {
        "id": "QonRX5pL4gEY"
      },
      "outputs": [
        {
          "name": "stdout",
          "output_type": "stream",
          "text": [
            "This is to verify if Ax=b, so we print Ax= [ 5. -2.  9.]\n"
          ]
        }
      ],
      "source": [
        "Ax =np.dot(A,x)\n",
        "print(\"This is to verify if Ax=b, so we print Ax=\", Ax)"
      ]
    },
    {
      "cell_type": "markdown",
      "metadata": {
        "id": "sAy4Crf6-bqA"
      },
      "source": [
        "Step 6.  What does the solution above represent? What are these values?"
      ]
    },
    {
      "cell_type": "markdown",
      "metadata": {
        "id": "pdJsyy3o-tyY"
      },
      "source": [
        "Your response:\n",
        "\n",
        "By solving the system using the matrix inversion method, we find the specific values x that make all three equations true simultaneously."
      ]
    },
    {
      "cell_type": "markdown",
      "metadata": {
        "id": "3XE3l9tqCEhX"
      },
      "source": [
        "# Problem 3"
      ]
    },
    {
      "cell_type": "markdown",
      "metadata": {
        "id": "Wrauxu-C_0_G"
      },
      "source": [
        "Solving a System of Linear Equations using matrix inversion method\n",
        "\n",
        "Suppose you are given a system of linear equations of the form Ax=b, where A is a square matrix and x and b are vectors.\n",
        "\n",
        "A = [[3, -1, 2, 0],[2, 4, 0, 1],[-1, 3, 5, -2],[0, 2, -1, 4]]\n",
        "\n",
        "b = [4, 3, 8, -1]\n",
        "\n",
        "Your task is to solve the system of equations using matrix inversion approach with Python.\n",
        "\n",
        "Print the solution vector x and verify your solution by computing Ax."
      ]
    },
    {
      "cell_type": "markdown",
      "metadata": {
        "id": "RZ5_-TFV_KpC"
      },
      "source": [
        "Step  1. Import numpy as np. Then array from numpy. Next, get inv  from linalg. Follow the example 4-18 in the book."
      ]
    },
    {
      "cell_type": "code",
      "execution_count": 17,
      "metadata": {
        "id": "VjNZnfxC_bji"
      },
      "outputs": [],
      "source": [
        "import numpy as np\n",
        "from numpy import array\n",
        "from numpy.linalg import inv"
      ]
    },
    {
      "cell_type": "markdown",
      "metadata": {
        "id": "z5Xx3YlH_cCK"
      },
      "source": [
        "Step 2. Define the arrays Matrix A and vector b"
      ]
    },
    {
      "cell_type": "code",
      "execution_count": 18,
      "metadata": {
        "id": "rMdMpIb3_jOI"
      },
      "outputs": [],
      "source": [
        "\n",
        "A = array([[3, -1, 2, 0],[2, 4, 0, 1],[-1, 3, 5, -2],[0, 2, -1, 4]])\n",
        "b = array([4, 3, 8, -1])"
      ]
    },
    {
      "cell_type": "markdown",
      "metadata": {
        "id": "sHe6wNRn_veD"
      },
      "source": [
        "Step 3. Use the matrix inversion approach to solve Ax=b. Follow the example in 4-18 as well as Problem 2 in this assignment."
      ]
    },
    {
      "cell_type": "code",
      "execution_count": 19,
      "metadata": {
        "id": "JgQ0ZyEcANhT"
      },
      "outputs": [
        {
          "name": "stdout",
          "output_type": "stream",
          "text": [
            "The solution using matrix inversion approach for this system of equation is [ 0.59150327  0.49346405  1.35947712 -0.15686275]\n"
          ]
        }
      ],
      "source": [
        "x = inv(A).dot(b)\n",
        "\n",
        "print(\"The solution using matrix inversion approach for this system of equation is\", x)"
      ]
    },
    {
      "cell_type": "markdown",
      "metadata": {
        "id": "SgeIlJhRAec4"
      },
      "source": [
        "Step 4. Verify the solution is correct. Look at problem 2 to perform the dot product."
      ]
    },
    {
      "cell_type": "code",
      "execution_count": 20,
      "metadata": {
        "id": "PsrXsK8WAhHa"
      },
      "outputs": [
        {
          "name": "stdout",
          "output_type": "stream",
          "text": [
            "This is to verify if Ax=b, so we print Ax= [ 4.  3.  8. -1.]\n"
          ]
        }
      ],
      "source": [
        "Ax = np.dot(A,x)\n",
        "print(\"This is to verify if Ax=b, so we print Ax=\", Ax)"
      ]
    },
    {
      "cell_type": "markdown",
      "metadata": {
        "id": "kLONmKTKAvzS"
      },
      "source": [
        "Step 5. What does this solution represent? Enter your response in the text box below."
      ]
    },
    {
      "cell_type": "markdown",
      "metadata": {
        "id": "ye8MBD1WA5BX"
      },
      "source": [
        "Your response:"
      ]
    }
  ],
  "metadata": {
    "colab": {
      "provenance": []
    },
    "kernelspec": {
      "display_name": "Python 3",
      "name": "python3"
    },
    "language_info": {
      "codemirror_mode": {
        "name": "ipython",
        "version": 3
      },
      "file_extension": ".py",
      "mimetype": "text/x-python",
      "name": "python",
      "nbconvert_exporter": "python",
      "pygments_lexer": "ipython3",
      "version": "3.12.0"
    }
  },
  "nbformat": 4,
  "nbformat_minor": 0
}
