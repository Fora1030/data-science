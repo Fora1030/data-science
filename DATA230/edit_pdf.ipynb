{
 "cells": [
  {
   "cell_type": "code",
   "execution_count": 10,
   "metadata": {},
   "outputs": [
    {
     "name": "stdout",
     "output_type": "stream",
     "text": [
      "['Chapter01.pdf', 'Chapter02.pdf', 'Chapter03.pdf', 'Chapter04.pdf', 'Chapter05.pdf', 'Chapter06.pdf', 'Chapter07.pdf', 'Chapter08.pdf']\n",
      "Chapter01.pdf\n",
      "Chapter02.pdf\n",
      "Chapter03.pdf\n",
      "Chapter04.pdf\n",
      "Chapter05.pdf\n",
      "Chapter06.pdf\n",
      "Chapter07.pdf\n",
      "Chapter08.pdf\n"
     ]
    }
   ],
   "source": [
    "import os\n",
    "from pathlib import Path\n",
    "\n",
    "folder_path = Path(r'C:\\Users\\Franklin\\Desktop\\College\\DATASCIENCE\\Summer_2024\\DATA230\\Book')\n",
    "\n",
    "for root, dirs, files in folder_path.walk():\n",
    "    for file in files:\n",
    "        if file.endswith('.pdf'):\n",
    "            file_name = file\n",
    "            print(file_name)"
   ]
  },
  {
   "cell_type": "code",
   "execution_count": 11,
   "metadata": {},
   "outputs": [
    {
     "name": "stdout",
     "output_type": "stream",
     "text": [
      "Renamed: C:\\Users\\Franklin\\Desktop\\College\\DATASCIENCE\\Summer_2024\\DATA230\\Book\\Chapter01.pdf to C:\\Users\\Franklin\\Desktop\\College\\DATASCIENCE\\Summer_2024\\DATA230\\Book\\Chapter01_Essential_Math_for_Data_Science.pdf\n",
      "Renamed: C:\\Users\\Franklin\\Desktop\\College\\DATASCIENCE\\Summer_2024\\DATA230\\Book\\Chapter02.pdf to C:\\Users\\Franklin\\Desktop\\College\\DATASCIENCE\\Summer_2024\\DATA230\\Book\\Chapter02_Essential_Math_for_Data_Science.pdf\n",
      "Renamed: C:\\Users\\Franklin\\Desktop\\College\\DATASCIENCE\\Summer_2024\\DATA230\\Book\\Chapter03.pdf to C:\\Users\\Franklin\\Desktop\\College\\DATASCIENCE\\Summer_2024\\DATA230\\Book\\Chapter03_Essential_Math_for_Data_Science.pdf\n",
      "Renamed: C:\\Users\\Franklin\\Desktop\\College\\DATASCIENCE\\Summer_2024\\DATA230\\Book\\Chapter04.pdf to C:\\Users\\Franklin\\Desktop\\College\\DATASCIENCE\\Summer_2024\\DATA230\\Book\\Chapter04_Essential_Math_for_Data_Science.pdf\n",
      "Renamed: C:\\Users\\Franklin\\Desktop\\College\\DATASCIENCE\\Summer_2024\\DATA230\\Book\\Chapter05.pdf to C:\\Users\\Franklin\\Desktop\\College\\DATASCIENCE\\Summer_2024\\DATA230\\Book\\Chapter05_Essential_Math_for_Data_Science.pdf\n",
      "Renamed: C:\\Users\\Franklin\\Desktop\\College\\DATASCIENCE\\Summer_2024\\DATA230\\Book\\Chapter06.pdf to C:\\Users\\Franklin\\Desktop\\College\\DATASCIENCE\\Summer_2024\\DATA230\\Book\\Chapter06_Essential_Math_for_Data_Science.pdf\n",
      "Renamed: C:\\Users\\Franklin\\Desktop\\College\\DATASCIENCE\\Summer_2024\\DATA230\\Book\\Chapter07.pdf to C:\\Users\\Franklin\\Desktop\\College\\DATASCIENCE\\Summer_2024\\DATA230\\Book\\Chapter07_Essential_Math_for_Data_Science.pdf\n",
      "Renamed: C:\\Users\\Franklin\\Desktop\\College\\DATASCIENCE\\Summer_2024\\DATA230\\Book\\Chapter08.pdf to C:\\Users\\Franklin\\Desktop\\College\\DATASCIENCE\\Summer_2024\\DATA230\\Book\\Chapter08_Essential_Math_for_Data_Science.pdf\n"
     ]
    }
   ],
   "source": [
    "import os\n",
    "from pathlib import Path\n",
    "\n",
    "# Define the folder path\n",
    "folder_path = Path(r'C:\\Users\\Franklin\\Desktop\\College\\DATASCIENCE\\Summer_2024\\DATA230\\Book')\n",
    "\n",
    "# Iterate over all files in the folder and its subfolders\n",
    "for root, dirs, files in os.walk(folder_path):\n",
    "    for file in files:\n",
    "        if file.endswith('.pdf'):\n",
    "            old_file_path = Path(root) / file\n",
    "            new_file_name = file.replace('.pdf', '_Essential_Math_for_Data_Science.pdf')\n",
    "            new_file_path = Path(root) / new_file_name\n",
    "            os.rename(old_file_path, new_file_path)\n",
    "            print(f'Renamed: {old_file_path} to {new_file_path}')"
   ]
  },
  {
   "cell_type": "code",
   "execution_count": null,
   "metadata": {},
   "outputs": [],
   "source": []
  }
 ],
 "metadata": {
  "kernelspec": {
   "display_name": "data_env",
   "language": "python",
   "name": "python3"
  },
  "language_info": {
   "codemirror_mode": {
    "name": "ipython",
    "version": 3
   },
   "file_extension": ".py",
   "mimetype": "text/x-python",
   "name": "python",
   "nbconvert_exporter": "python",
   "pygments_lexer": "ipython3",
   "version": "3.12.0"
  }
 },
 "nbformat": 4,
 "nbformat_minor": 2
}
