{
  "cells": [
    {
      "cell_type": "markdown",
      "metadata": {
        "id": "wX0iiRfSlUN-"
      },
      "source": [
        "For this assignment, you will have two questions, finding a derivative (also know as differentiation) and finding an integral. You can use the Chapter 1 Quiz Part B code to help you with either of these assignments. Feel free to copy and paste the code you need."
      ]
    },
    {
      "cell_type": "markdown",
      "metadata": {
        "id": "o5Vxf7urg1Y_"
      },
      "source": [
        "# Question 1 Differentiation"
      ]
    },
    {
      "cell_type": "markdown",
      "metadata": {
        "id": "y5whtnjcGAgC"
      },
      "source": [
        "Find the derivative of the function f(x) = x^3 + 2x^2 + 5x - 7 at x = 2"
      ]
    },
    {
      "cell_type": "markdown",
      "metadata": {
        "id": "inW3PtmdGjkQ"
      },
      "source": [
        "*Hint: Look at Chapter 1 Part B quiz- Question 1. You can use the code from that to solve this problem. We have given you a start to each line of code below*"
      ]
    },
    {
      "cell_type": "markdown",
      "metadata": {
        "id": "pqEPkEVPGF8u"
      },
      "source": [
        "Step 1: Install Sympy library (either all functions or just Symbol and Diff)"
      ]
    },
    {
      "cell_type": "code",
      "execution_count": 1,
      "metadata": {
        "id": "hXIgmu4dGcdw"
      },
      "outputs": [],
      "source": [
        "from sympy import Symbol, diff\n"
      ]
    },
    {
      "cell_type": "markdown",
      "metadata": {
        "id": "3WNQRusiGSvg"
      },
      "source": [
        "Step 2: Define your symbols"
      ]
    },
    {
      "cell_type": "code",
      "execution_count": 2,
      "metadata": {
        "id": "aj1H7yMjGfGh"
      },
      "outputs": [],
      "source": [
        "x = Symbol('x')"
      ]
    },
    {
      "cell_type": "markdown",
      "metadata": {
        "id": "AX0sOIFVGXxV"
      },
      "source": [
        "\n",
        "Step 3: Define the function f(x)\n",
        "\n"
      ]
    },
    {
      "cell_type": "code",
      "execution_count": 3,
      "metadata": {
        "id": "uuKNSYOfG0aZ"
      },
      "outputs": [],
      "source": [
        "f = x**3 + 2*x**2 + 5*x -7"
      ]
    },
    {
      "cell_type": "markdown",
      "metadata": {
        "id": "DkP9aNeCG8xT"
      },
      "source": [
        "Step 4: Calculate the Derivative using the diff() function from Sympy."
      ]
    },
    {
      "cell_type": "code",
      "execution_count": 4,
      "metadata": {
        "id": "7yowdC2OHHEb"
      },
      "outputs": [
        {
          "name": "stdout",
          "output_type": "stream",
          "text": [
            "The derivative of f(x) is:  3*x**2 + 4*x + 5\n"
          ]
        }
      ],
      "source": [
        "dx_f = diff(f)\n",
        "print(\"The derivative of f(x) is: \", dx_f)"
      ]
    },
    {
      "cell_type": "markdown",
      "metadata": {
        "id": "tMHtfwZnHHo4"
      },
      "source": [
        "Step 5: Evaluate the derivative at x=2 using the subs() function"
      ]
    },
    {
      "cell_type": "code",
      "execution_count": 5,
      "metadata": {
        "id": "6un02kH0Hl0j"
      },
      "outputs": [
        {
          "name": "stdout",
          "output_type": "stream",
          "text": [
            "The value of the derivative of f(x) at x = 2 is:  25\n"
          ]
        }
      ],
      "source": [
        "df_at_2 = dx_f.subs(x, 2)\n",
        "print(\"The value of the derivative of f(x) at x = 2 is: \", df_at_2)"
      ]
    },
    {
      "cell_type": "markdown",
      "metadata": {
        "id": "qoBoa1srg9Dt"
      },
      "source": [
        "# Question 2 Integration"
      ]
    },
    {
      "cell_type": "markdown",
      "metadata": {
        "id": "aPbm9tnfIXRK"
      },
      "source": [
        "Evaluate the definite integral of the function f(x) = 2x^2 + 4x + 6 from x = 0 to x = 5"
      ]
    },
    {
      "cell_type": "markdown",
      "metadata": {
        "id": "znEBvWliIdBj"
      },
      "source": [
        "*Hint: Look at Chapter 1 Part B quiz- Question 2. You can use the code from that to solve this problem. We have given you a start to each line of code below*"
      ]
    },
    {
      "cell_type": "markdown",
      "metadata": {
        "id": "bdg6PGyUJJjL"
      },
      "source": [
        "Step 1: Install Sympy library (either all functions or just Symbol and Integrate)"
      ]
    },
    {
      "cell_type": "code",
      "execution_count": 6,
      "metadata": {
        "id": "BgFnw_EiJJ4y"
      },
      "outputs": [],
      "source": [
        "from sympy import Symbol, integrate"
      ]
    },
    {
      "cell_type": "markdown",
      "metadata": {
        "id": "gDHjoUnVJKNo"
      },
      "source": [
        "Step 2: Define your symbols"
      ]
    },
    {
      "cell_type": "code",
      "execution_count": 7,
      "metadata": {
        "id": "-7_9ERH6JKae"
      },
      "outputs": [],
      "source": [
        "x = Symbol('x')"
      ]
    },
    {
      "cell_type": "markdown",
      "metadata": {
        "id": "0VZ4_TIbJKmU"
      },
      "source": [
        "Step 3: Define the function f(x)"
      ]
    },
    {
      "cell_type": "code",
      "execution_count": 8,
      "metadata": {
        "id": "SqiEp9Y1JKqJ"
      },
      "outputs": [],
      "source": [
        "f = 2*x**2 + 4*x + 6"
      ]
    },
    {
      "cell_type": "markdown",
      "metadata": {
        "id": "SkmO3dtLJKzV"
      },
      "source": [
        "Step 4: Calculate the integral by using the integrate function from Sympy."
      ]
    },
    {
      "cell_type": "code",
      "execution_count": 9,
      "metadata": {
        "id": "DkZ9rb1sJK9B"
      },
      "outputs": [],
      "source": [
        "definite_integral = integrate(f, (x, 0, 5))\n"
      ]
    },
    {
      "cell_type": "markdown",
      "metadata": {
        "id": "1Y97xNPYKaMT"
      },
      "source": [
        "Step 5: Evaluate the integral from x=0 to x=5"
      ]
    },
    {
      "cell_type": "code",
      "execution_count": 10,
      "metadata": {
        "id": "gQmR33cOKjKC"
      },
      "outputs": [
        {
          "name": "stdout",
          "output_type": "stream",
          "text": [
            "The value of the definite integral of f(x) from x = 0 to x = 5 is: 163.33\n"
          ]
        }
      ],
      "source": [
        "definite_integral_eval = definite_integral.evalf()\n",
        "print(\"The value of the definite integral of f(x) from x = 0 to x = 5 is: %.2f\" %definite_integral_eval)"
      ]
    }
  ],
  "metadata": {
    "colab": {
      "provenance": []
    },
    "kernelspec": {
      "display_name": "Python 3",
      "name": "python3"
    },
    "language_info": {
      "codemirror_mode": {
        "name": "ipython",
        "version": 3
      },
      "file_extension": ".py",
      "mimetype": "text/x-python",
      "name": "python",
      "nbconvert_exporter": "python",
      "pygments_lexer": "ipython3",
      "version": "3.12.0"
    }
  },
  "nbformat": 4,
  "nbformat_minor": 0
}
